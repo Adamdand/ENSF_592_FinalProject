{
 "cells": [
  {
   "cell_type": "markdown",
   "metadata": {},
   "source": [
    "\\pagebreak"
   ]
  },
  {
   "cell_type": "markdown",
   "metadata": {},
   "source": [
    "## Traffic Signals.ipynb (Traffic Signals Analysis)"
   ]
  },
  {
   "cell_type": "markdown",
   "metadata": {},
   "source": [
    "### Libraries and functions"
   ]
  },
  {
   "cell_type": "code",
   "execution_count": null,
   "metadata": {},
   "outputs": [],
   "source": [
    "import numpy as np\n",
    "import pandas as pd\n",
    "import folium\n",
    "import geopandas as gpd\n",
    "from shapely.geometry import Polygon\n",
    "from shapely.geometry import box\n",
    "import matplotlib.pyplot as plt\n",
    "import seaborn as sns"
   ]
  },
  {
   "cell_type": "markdown",
   "metadata": {},
   "source": [
    "\\pagebreak"
   ]
  },
  {
   "cell_type": "markdown",
   "metadata": {},
   "source": [
    "### Reading and merging data"
   ]
  },
  {
   "cell_type": "code",
   "execution_count": null,
   "metadata": {},
   "outputs": [],
   "source": [
    "#add traffic incidents\n",
    "incidents_df = pd.read_csv('..\\..\\CSV_files\\Traffic_Incidents.csv') #call csv\n",
    "incidents_df['data']='TrafficIncidents' #create column to keep track of where this data came from when merging dataframes\n",
    "#rename columns so they match other dataframes\n",
    "incidents_df=incidents_df.rename(columns={'Latitude':'latitude','Longitude':'longitude','Count':'Incidents'})\n",
    "#incidents_df.head() #<-- visual QC of dataframe"
   ]
  },
  {
   "cell_type": "code",
   "execution_count": null,
   "metadata": {},
   "outputs": [],
   "source": [
    "#data given to 6 significant digets, so this doesnt actualy do much(but we kept the code, just incase we wanted to \n",
    "#experiment with radius)\n",
    "incidents_df = incidents_df.round({'latitude':6, 'longitude':6})\n",
    "#incidents_df #<-- visual QC of dataframe"
   ]
  },
  {
   "cell_type": "code",
   "execution_count": null,
   "metadata": {},
   "outputs": [],
   "source": [
    "#add trafic signals\n",
    "signals_df = pd.read_csv('..\\..\\CSV_files\\Traffic_Signals.csv')\n",
    "signals_df=signals_df.rename(columns={'Count':'Signal Count'})\n",
    "signals_df['data']='TrafficSignals'\n",
    "#signals_df #<-- visual QC of dataframe"
   ]
  },
  {
   "cell_type": "code",
   "execution_count": null,
   "metadata": {},
   "outputs": [],
   "source": [
    "signals_df = signals_df.round({'latitude':6, 'longitude':6})"
   ]
  },
  {
   "cell_type": "code",
   "execution_count": null,
   "metadata": {},
   "outputs": [],
   "source": [
    "#DID A LEFT JOIN, BECASUE MORE SIGNALS THAN ACCIDENTS DATA\n",
    "accidents_vs_signals = pd.merge(left=signals_df, right=incidents_df, how='left', left_on=['latitude','longitude'], right_on=['latitude','longitude'])\n",
    "#accidents_vs_signals #<-- visual QC of dataframe"
   ]
  },
  {
   "cell_type": "markdown",
   "metadata": {},
   "source": [
    "\\pagebreak"
   ]
  },
  {
   "cell_type": "markdown",
   "metadata": {},
   "source": [
    "### Incidents and signal count vs. intersection type (Table)"
   ]
  },
  {
   "cell_type": "code",
   "execution_count": null,
   "metadata": {},
   "outputs": [],
   "source": [
    "INT_TYPE_TABLE = accidents_vs_signals.groupby(['INT_TYPE']).sum()\n",
    "INT_TYPE_TABLE = INT_TYPE_TABLE[INT_TYPE_TABLE.columns.difference(['latitude','longitude','ACCESSIBLE PEDESTRIAN SIGNAL'])]\n",
    "INT_TYPE_TABLE['%Incidents to Signal Count'] = (INT_TYPE_TABLE['Incidents'] / INT_TYPE_TABLE['Signal Count'])*100\n",
    "INT_TYPE_TABLE = INT_TYPE_TABLE.sort_values(['%Incidents to Signal Count'], ascending=False) #order table\n",
    "INT_TYPE_TABLE #<---print table for analysis"
   ]
  },
  {
   "cell_type": "markdown",
   "metadata": {},
   "source": [
    "\\pagebreak"
   ]
  },
  {
   "cell_type": "markdown",
   "metadata": {},
   "source": [
    "### Percentatge of incidents vs. signal type (Histogram)"
   ]
  },
  {
   "cell_type": "code",
   "execution_count": null,
   "metadata": {},
   "outputs": [],
   "source": [
    "#create histogram of the above table\n",
    "INT_TYPE_TABLE=INT_TYPE_TABLE.reset_index()\n",
    "fig,ax = plt.subplots(figsize=(15,7))\n",
    "sns.barplot(x = 'INT_TYPE', y = '%Incidents to Signal Count', data = INT_TYPE_TABLE)\n",
    "\n",
    "plt.ylabel(\"% Incidents to Signal Count\",fontsize=20)\n",
    "plt.xlabel(\"Signal Type\",fontsize=20)\n",
    "plt.title(\"Percentatge of Incidents vs. Signal Type\",fontsize=24)"
   ]
  },
  {
   "cell_type": "markdown",
   "metadata": {},
   "source": [
    "\\pagebreak"
   ]
  },
  {
   "cell_type": "markdown",
   "metadata": {},
   "source": [
    "### Incident to signal count percentage in each city quadrant (Table)"
   ]
  },
  {
   "cell_type": "code",
   "execution_count": null,
   "metadata": {},
   "outputs": [],
   "source": [
    "QUADRANT_TABLE = accidents_vs_signals.groupby(['QUADRANT_x']).sum()\n",
    "QUADRANT_TABLE = QUADRANT_TABLE[QUADRANT_TABLE.columns.difference(['latitude','longitude','ACCESSIBLE PEDESTRIAN SIGNAL'])]\n",
    "QUADRANT_TABLE['%Incidents to Signal Count'] = (QUADRANT_TABLE['Incidents'] / QUADRANT_TABLE['Signal Count'])*100\n",
    "QUADRANT_TABLE = QUADRANT_TABLE.sort_values(['%Incidents to Signal Count'], ascending=False)\n",
    "QUADRANT_TABLE=QUADRANT_TABLE.reset_index()\n",
    "QUADRANT_TABLE #<-- show to see table"
   ]
  },
  {
   "cell_type": "code",
   "execution_count": null,
   "metadata": {},
   "outputs": [],
   "source": [
    "#create histogram of the above table\n",
    "fig,ax = plt.subplots(figsize=(15,7))\n",
    "sns.barplot(x = 'QUADRANT_x', y = '%Incidents to Signal Count', data = QUADRANT_TABLE)\n",
    "\n",
    "plt.ylabel(\"% Incidents to Signal Count\",fontsize=20)\n",
    "plt.xlabel(\"City Quadrant\",fontsize=20)\n",
    "plt.title(\"Incident to Signal Count Percentage in each City Quadrant\",fontsize=24)"
   ]
  },
  {
   "cell_type": "markdown",
   "metadata": {},
   "source": [
    "\\pagebreak"
   ]
  },
  {
   "cell_type": "markdown",
   "metadata": {},
   "source": [
    "### Pedestrian button at intersection correlation (Table)"
   ]
  },
  {
   "cell_type": "code",
   "execution_count": null,
   "metadata": {},
   "outputs": [],
   "source": [
    "PEDBUTTON_TABLE = accidents_vs_signals.groupby(['PEDBUTTONS']).sum()\n",
    "PEDBUTTON_TABLE = PEDBUTTON_TABLE[PEDBUTTON_TABLE.columns.difference(['latitude','longitude','ACCESSIBLE PEDESTRIAN SIGNAL'])]\n",
    "PEDBUTTON_TABLE['%Incidents to Signal Count'] = (PEDBUTTON_TABLE['Incidents'] / PEDBUTTON_TABLE['Signal Count'])*100\n",
    "PEDBUTTON_TABLE=PEDBUTTON_TABLE.reset_index()\n",
    "PEDBUTTON_TABLE #<-- show to see table"
   ]
  },
  {
   "cell_type": "markdown",
   "metadata": {},
   "source": [
    "\\pagebreak"
   ]
  },
  {
   "cell_type": "markdown",
   "metadata": {},
   "source": [
    "### Incident per signal count percentage for each quadrant in Calgary (BubblePlot)"
   ]
  },
  {
   "cell_type": "code",
   "execution_count": null,
   "metadata": {},
   "outputs": [],
   "source": [
    "x=[0,1,0,0.5,1]\n",
    "y=[0,1,1,0,0]\n",
    "z=[1670,1020,394,4130,1357]\n",
    "plt.scatter(x,y,s=z, c=\"red\", alpha=0.5)\n",
    "\n",
    "plt.ylabel(\"South           North\",fontsize=20)\n",
    "plt.xlabel(\"West                              East\",fontsize=20)\n",
    "plt.title(\"Incident per Signal Count Percentage for each Quadrant in Calgary\",fontsize=24)"
   ]
  },
  {
   "cell_type": "markdown",
   "metadata": {},
   "source": [
    "\\pagebreak"
   ]
  },
  {
   "cell_type": "markdown",
   "metadata": {},
   "source": [
    "### Incidents vs. signal count for each quadrant in Calgary (pointplot)"
   ]
  },
  {
   "cell_type": "code",
   "execution_count": null,
   "metadata": {},
   "outputs": [],
   "source": [
    "#bins = [1,2,3,4,5,6,7,8,9,10,11,12,13,14,15,16,17,18,19,20,21,22,23,24]\n",
    "\n",
    "fig,ax = plt.subplots(figsize=(15,7))\n",
    "sns.set(style=\"darkgrid\")\n",
    "g = sns.pointplot(x=\"Signal Count\", y=\"Incidents\", data=QUADRANT_TABLE, color=\"black\")\n",
    "g = sns.pointplot(x=\"Signal Count\", y=\"Incidents\", hue='QUADRANT_x', data=QUADRANT_TABLE, scale=2)\n",
    "\n",
    "plt.ylabel(\"Incidents\" ,fontsize=20)\n",
    "plt.xlabel(\"Signal Count\",fontsize=20)\n",
    "plt.title(\"Incidents vs. Signal Count for each Quadrant in Calgary\",fontsize=24)"
   ]
  }
 ],
 "metadata": {
  "kernelspec": {
   "display_name": "Python 3",
   "language": "python",
   "name": "python3"
  },
  "language_info": {
   "codemirror_mode": {
    "name": "ipython",
    "version": 3
   },
   "file_extension": ".py",
   "mimetype": "text/x-python",
   "name": "python",
   "nbconvert_exporter": "python",
   "pygments_lexer": "ipython3",
   "version": "3.7.6"
  }
 },
 "nbformat": 4,
 "nbformat_minor": 4
}