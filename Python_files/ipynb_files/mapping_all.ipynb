{
 "cells": [
  {
   "cell_type": "markdown",
   "metadata": {},
   "source": [
    "# Libraries and functions"
   ]
  },
  {
   "cell_type": "code",
   "execution_count": null,
   "metadata": {},
   "outputs": [],
   "source": [
    "#import required libraries\n",
    "import numpy as np\n",
    "import pandas as pd\n",
    "import folium\n",
    "import geopandas as gpd\n",
    "from folium import plugins\n",
    "from folium.plugins import HeatMap\n",
    "from folium.plugins import FloatImage\n",
    "from shapely.geometry import box\n",
    "from shapely.geometry import MultiLineString\n",
    "import branca\n",
    "from colour import Color\n",
    "import matplotlib.pyplot as plt\n",
    "import matplotlib.patches as mpatches"
   ]
  },
  {
   "cell_type": "code",
   "execution_count": null,
   "metadata": {},
   "outputs": [],
   "source": [
    "#CODE BORROWED FROM https://nbviewer.jupyter.org/gist/BibMartin/f153aa957ddc5fadc64929abdee9ff2e\n",
    "from branca.element import MacroElement\n",
    "\n",
    "from jinja2 import Template\n",
    "\n",
    "class BindColormap(MacroElement):\n",
    "    \"\"\"Binds a colormap to a given layer.\n",
    "\n",
    "    Parameters\n",
    "    ----------\n",
    "    colormap : branca.colormap.ColorMap\n",
    "        The colormap to bind.\n",
    "    \"\"\"\n",
    "    def __init__(self, layer, colormap):\n",
    "        super(BindColormap, self).__init__()\n",
    "        self.layer = layer\n",
    "        self.colormap = colormap\n",
    "        self._template = Template(u\"\"\"\n",
    "        {% macro script(this, kwargs) %}\n",
    "            {{this.colormap.get_name()}}.svg[0][0].style.display = 'block';\n",
    "            {{this._parent.get_name()}}.on('overlayadd', function (eventLayer) {\n",
    "                if (eventLayer.layer == {{this.layer.get_name()}}) {\n",
    "                    {{this.colormap.get_name()}}.svg[0][0].style.display = 'block';\n",
    "                }});\n",
    "            {{this._parent.get_name()}}.on('overlayremove', function (eventLayer) {\n",
    "                if (eventLayer.layer == {{this.layer.get_name()}}) {\n",
    "                    {{this.colormap.get_name()}}.svg[0][0].style.display = 'none';\n",
    "                }});\n",
    "        {% endmacro %}\n",
    "        \"\"\")  # noqa"
   ]
  },
  {
   "cell_type": "code",
   "execution_count": null,
   "metadata": {},
   "outputs": [],
   "source": [
    "#function for creating heatmap given lat, long and weight data\n",
    "def create_heatmap(list_lat, list_long, map_osm, heat_name, list_weight = [], r = 20):\n",
    "    #create feature layer\n",
    "    feature = folium.map.FeatureGroup(name = heat_name, overlay = True, show = False)\n",
    "\n",
    "    #if weights are given\n",
    "    if (len(list_weight) > 0):\n",
    "        #create heatmap\n",
    "        plugins.HeatMap(zip(list_lat, list_long, list_weight), radius = r, gradient = {0.25: \"blue\", 0.4: \"lightblue\", 0.6: \"lime\", 0.8: \"yellow\", 1.0: \"red\"}).add_to(feature)\n",
    "\n",
    "        #create legend\n",
    "        legend = create_legend(list_weight)\n",
    "\n",
    "        #add feature to map and bind feature and legend together\n",
    "        map_osm.add_child(feature)\n",
    "        map_osm.add_child(legend)\n",
    "        map_osm.add_child(BindColormap(feature,legend))\n",
    "    \n",
    "    #otherwise don't use any weights\n",
    "    else:\n",
    "        #create heatmap\n",
    "        plugins.HeatMap(zip(list_lat, list_long), radius = r, gradient = {0.25: \"blue\", 0.4: \"lightblue\", 0.6: \"lime\", 0.8: \"yellow\", 1.0: \"red\"}).add_to(feature)\n",
    "\n",
    "        #create legend\n",
    "        legend = create_legend()\n",
    "\n",
    "        #add feature to map and bind feature and legend together\n",
    "        map_osm.add_child(feature)\n",
    "        map_osm.add_child(legend)\n",
    "        map_osm.add_child(BindColormap(feature,legend))\n"
   ]
  },
  {
   "cell_type": "code",
   "execution_count": null,
   "metadata": {},
   "outputs": [],
   "source": [
    "#function for creating heatmap given lat, long and weight data (specifically for incidents)\n",
    "def create_heatmap_incidents(list_lat, list_long, map_osm, heat_name, list_weight = [], r = 20):\n",
    "    #create feature layer\n",
    "    feature = folium.map.FeatureGroup(name = heat_name, overlay = True, show = False)\n",
    "\n",
    "    #if weights are given\n",
    "    if (len(list_weight) > 0):\n",
    "        #create heatmap\n",
    "        \n",
    "        #inferno color scheme\n",
    "        # plugins.HeatMap(zip(list_lat, list_long), radius = r, gradient = {0.025: \"#2f0087\", 0.0714285715: \"#6200a4\", 0.142857143: \"#9200a6\", 0.214285: \"#ba2f8a\", 0.28571: \"#d85b69\", 0.35714: \"#ee8949\", 0.42855: \"#f6bd27\", 0.5: \"#e4fa15\"}).add_to(feature)\n",
    "        # plugins.HeatMap(zip(list_lat, list_long), radius = r, gradient = {0.05: \"#2f0087\", 0.142857143: \"#6200a4\", 0.285714286: \"#9200a6\", 0.428571429: \"#ba2f8a\", 0.571428571: \"#d85b69\", 0.714285714: \"#ee8949\", 0.857142857: \"#f6bd27\", 1.0: \"#e4fa15\"}).add_to(feature)\n",
    "\n",
    "        #inferno reversed\n",
    "        # plugins.HeatMap(zip(list_lat, list_long), radius = r, gradient = {0.025: \"#e4fa15\", 0.0714285715: \"#f6bd27\", 0.142857143: \"#ee8949\", 0.214285: \"#d85b69\", 0.28571: \"#ba2f8a\", 0.35714: \"#9200a6\", 0.42855: \"#6200a4\", 0.5: \"#2f0087\"}).add_to(feature)\n",
    "        plugins.HeatMap(zip(list_lat, list_long), radius = r, gradient = {0.05: \"#e4fa15\", 0.142857143: \"#f6bd27\", 0.285714286: \"#ee8949\",  0.428571429: \"#d85b69\", 0.571428571: \"#ba2f8a\", 0.714285714: \"#9200a6\", 0.857142857: \"#6200a4\", 1.0: \"#2f0087\"}).add_to(feature)\n",
    "\n",
    "        #create legend\n",
    "        legend = create_legend_incidents(list_weight)\n",
    "\n",
    "        #add feature to map and bind feature and legend together\n",
    "        map_osm.add_child(feature)\n",
    "        map_osm.add_child(legend)\n",
    "        map_osm.add_child(BindColormap(feature,legend))\n",
    "    \n",
    "    #otherwise don't use any weights\n",
    "    else:\n",
    "        #create heatmap\n",
    "\n",
    "        #inferno color scheme\n",
    "        # plugins.HeatMap(zip(list_lat, list_long), radius = r, gradient = {0.025: \"#2f0087\", 0.0714285715: \"#6200a4\", 0.142857143: \"#9200a6\", 0.214285: \"#ba2f8a\", 0.28571: \"#d85b69\", 0.35714: \"#ee8949\", 0.42855: \"#f6bd27\", 0.5: \"#e4fa15\"}).add_to(feature)\n",
    "        # plugins.HeatMap(zip(list_lat, list_long), radius = r, gradient = {0.05: \"#2f0087\", 0.142857143: \"#6200a4\", 0.285714286: \"#9200a6\", 0.428571429: \"#ba2f8a\", 0.571428571: \"#d85b69\", 0.714285714: \"#ee8949\", 0.857142857: \"#f6bd27\", 1.0: \"#e4fa15\"}).add_to(feature)\n",
    "\n",
    "        #inferno reversed\n",
    "        # plugins.HeatMap(zip(list_lat, list_long), radius = r, gradient = {0.025: \"#e4fa15\", 0.0714285715: \"#f6bd27\", 0.142857143: \"#ee8949\", 0.214285: \"#d85b69\", 0.28571: \"#ba2f8a\", 0.35714: \"#9200a6\", 0.42855: \"#6200a4\", 0.5: \"#2f0087\"}).add_to(feature)\n",
    "        plugins.HeatMap(zip(list_lat, list_long), radius = r, gradient = {0.05: \"#e4fa15\", 0.142857143: \"#f6bd27\", 0.285714286: \"#ee8949\",  0.428571429: \"#d85b69\", 0.571428571: \"#ba2f8a\", 0.714285714: \"#9200a6\", 0.857142857: \"#6200a4\", 1.0: \"#2f0087\"}).add_to(feature)\n",
    "\n",
    "        #create legend\n",
    "        legend = create_legend_incidents()\n",
    "\n",
    "        #add feature to map and bind feature and legend together\n",
    "        map_osm.add_child(feature)\n",
    "        map_osm.add_child(legend)\n",
    "        map_osm.add_child(BindColormap(feature,legend))"
   ]
  },
  {
   "cell_type": "code",
   "execution_count": null,
   "metadata": {},
   "outputs": [],
   "source": [
    "#function for generating legend (returns a linear interpolated color gradient)\n",
    "def create_legend(list_weight = []):\n",
    "    #colors and their respective index values\n",
    "    colors = [\"blue\", \"lightblue\", \"lime\", \"yellow\", \"red\"]\n",
    "    index = [0.25, 0.4, 0.6, 0.8, 1.0]\n",
    "    \n",
    "    #if weights are given, scale the index\n",
    "    if (len(list_weight) > 0):\n",
    "        #scale index with weight values\n",
    "        max_weight = max(list_weight)\n",
    "        min_weight = min(list_weight)\n",
    "        diff_weight = max_weight - min_weight\n",
    "        index = [(i*diff_weight) + min_weight for i in index]\n",
    "\n",
    "        #create a linear interpolation of colors\n",
    "        colormap = branca.colormap.LinearColormap(colors = colors, index = index, vmin = min_weight, vmax = max_weight)\n",
    "    \n",
    "    #else, use standard index\n",
    "    else:\n",
    "        colormap = branca.colormap.LinearColormap(colors = colors, index = index)\n",
    "\n",
    "    return colormap"
   ]
  },
  {
   "cell_type": "code",
   "execution_count": null,
   "metadata": {},
   "outputs": [],
   "source": [
    "#function for generating legend (returns a linear interpolated color gradient) (specifically for incidents)\n",
    "def create_legend_incidents(list_weight = []):\n",
    "    #colors and their respective index values\n",
    "    # colors = [\"#2f0087\", \"#6200a4\", \"#9200a6\", \"#ba2f8a\", \"#d85b69\", \"#ee8949\", \"#f6bd27\", \"#e4fa15\"]\n",
    "    colors = [\"#e4fa15\", \"#f6bd27\", \"#ee8949\", \"#d85b69\", \"#ba2f8a\", \"#9200a6\", \"#6200a4\", \"#2f0087\"]\n",
    "    index = [0.05, 0.142857143, 0.285714286, 0.428571429, 0.571428571, 0.714285714, 0.857142857, 1.0]\n",
    "    \n",
    "    #if weights are given, scale the index\n",
    "    if (len(list_weight) > 0):\n",
    "        #scale index with weight values\n",
    "        max_weight = max(list_weight)\n",
    "        min_weight = min(list_weight)\n",
    "        diff_weight = max_weight - min_weight\n",
    "        index = [(i*diff_weight) + min_weight for i in index]\n",
    "\n",
    "        #create a linear interpolation of colors\n",
    "        colormap = branca.colormap.LinearColormap(colors = colors, index = index, vmin = min_weight, vmax = max_weight)\n",
    "    \n",
    "    #else, use standard index\n",
    "    else:\n",
    "        colormap = branca.colormap.LinearColormap(colors = colors, index = index)\n",
    "\n",
    "    return colormap"
   ]
  },
  {
   "cell_type": "code",
   "execution_count": null,
   "metadata": {},
   "outputs": [],
   "source": [
    "#function for creating grid markers\n",
    "def create_markers(map_osm, grid_arr):\n",
    "    #create feature layer\n",
    "    feature = folium.map.FeatureGroup(name = \"grid markers\", overlay = True, show = True)\n",
    "\n",
    "    #open combined csv file and replace nan with string NaN\n",
    "    combined_df = pd.read_csv(\"..\\..\\CSV_files\\Combined_Data.csv\")\n",
    "    combined_df.fillna(\"NaN\", inplace = True)\n",
    "\n",
    "    #iterate through rows\n",
    "    counter = 0\n",
    "    for index, row in combined_df.iterrows():\n",
    "        #find middle point of grid\n",
    "        # grid = grid_arr[row[\"Grid\"]]\n",
    "        long_coord = (grid_arr[counter][0][0] + grid_arr[counter][3][0]) / 2\n",
    "        lat_coord = (grid_arr[counter][0][1] + grid_arr[counter][3][1]) / 2\n",
    "        counter += 1\n",
    "        column_names = list(combined_df.columns.values)\n",
    "\n",
    "        #create string of row data\n",
    "        text = \"\"\n",
    "        for col_name in column_names:\n",
    "            text += \"<br>\" + col_name + \": \" + str(row[col_name]) + \"<br>\"\n",
    "\n",
    "        #add to feature layer\n",
    "        iframe = folium.IFrame(text, width=220, height=310)\n",
    "        popup = folium.Popup(iframe)\n",
    "        folium.Marker(location=[lat_coord, long_coord], popup=popup).add_to(feature)\n",
    " \n",
    "    \n",
    "    #add to map\n",
    "    map_osm.add_child(feature)"
   ]
  },
  {
   "cell_type": "code",
   "execution_count": null,
   "metadata": {},
   "outputs": [],
   "source": [
    "#function for adding Calgary 10x10 grid array onto the map\n",
    "def create_grid_array(grid_array, map_osm):\n",
    "    #create feature layer\n",
    "    feature = folium.map.FeatureGroup(name = \"grid array\", overlay = True, show = True)\n",
    "\n",
    "    #iterate through each grid\n",
    "    for grid in grid_array:\n",
    "        #find the 4 corners of the grid\n",
    "        coord_box = box(grid[0][0],grid[0][1],grid[3][0],grid[3][1])\n",
    "\n",
    "        #create box geojson and add to feature layer\n",
    "        geo = gpd.GeoSeries([coord_box]).__geo_interface__\n",
    "        folium.GeoJson(geo).add_to(folium.FeatureGroup(name='grid array')).add_to(feature)\n",
    "    \n",
    "    #add feature layer to map\n",
    "    map_osm.add_child(feature)"
   ]
  },
  {
   "cell_type": "markdown",
   "metadata": {},
   "source": [
    "# Creating 10x10 grid"
   ]
  },
  {
   "cell_type": "code",
   "execution_count": null,
   "metadata": {},
   "outputs": [],
   "source": [
    "#Read city boundary layer\n",
    "df = pd.read_csv(\"..\\..\\CSV_files\\City_Boundary_layer.csv\")\n",
    "df"
   ]
  },
  {
   "cell_type": "code",
   "execution_count": null,
   "metadata": {},
   "outputs": [],
   "source": [
    "#parse the coordinates\n",
    "string = df[\"the_geom\"].values[0]\n",
    "string_stripped= string.replace(\"POLYGON\",\"\").replace(\"(\",\"\").replace(\")\",\"\").replace(\",\",\"\")\n",
    "string_split = string_stripped.split()"
   ]
  },
  {
   "cell_type": "code",
   "execution_count": null,
   "metadata": {
    "tags": []
   },
   "outputs": [],
   "source": [
    "list_long = []\n",
    "list_lat = []\n",
    "\n",
    "#appends latitudes and longitudes based on long/lat/long/lat... pattern\n",
    "for i in range(len(string_split)):\n",
    "    if i % 2 == 0:\n",
    "        list_long.append(float(string_split[i]))\n",
    "    else:\n",
    "        list_lat.append(float(string_split[i]))\n",
    "\n",
    "#find the min and max values of the boundary\n",
    "min_long = min(list_long)\n",
    "max_long = max(list_long)\n",
    "min_lat = min(list_lat)\n",
    "max_lat = max(list_lat)\n",
    "print(min_long)\n",
    "print(max_long)"
   ]
  },
  {
   "cell_type": "code",
   "execution_count": null,
   "metadata": {
    "tags": []
   },
   "outputs": [],
   "source": [
    "#creation of grid array for a 10x10 grid\n",
    "long_ten_split = np.linspace(min_long,max_long,num = 11)\n",
    "lat_ten_split = np.linspace(min_lat,max_lat,num = 11)\n",
    "\n",
    "grid_array = []\n",
    "for y in range(len(lat_ten_split)-1):\n",
    "    for x in range(len(long_ten_split)-1):\n",
    "        bot_left = [long_ten_split[x],lat_ten_split[y]]\n",
    "        bot_right = [long_ten_split[x+1],lat_ten_split[y]]\n",
    "        top_left = [long_ten_split[x],lat_ten_split[y+1]]\n",
    "        top_right = [long_ten_split[x+1],lat_ten_split[y+1]]\n",
    "        grid_array.append([bot_left,bot_right,top_left,top_right])"
   ]
  },
  {
   "cell_type": "markdown",
   "metadata": {},
   "source": [
    "# Traffic volume heat map"
   ]
  },
  {
   "cell_type": "code",
   "execution_count": null,
   "metadata": {},
   "outputs": [],
   "source": [
    "#read traffic csv\n",
    "traffic_df = pd.read_csv(\"..\\..\\CSV_files\\Traffic_Volumes_for_2018.csv\")\n",
    "traffic_df"
   ]
  },
  {
   "cell_type": "code",
   "execution_count": null,
   "metadata": {},
   "outputs": [],
   "source": [
    "#parse data for lat, longs and weight (volume)\n",
    "traffic_data = []\n",
    "\n",
    "#parse multilinestring\n",
    "for string,volume in zip(traffic_df['multilinestring'],traffic_df[\"VOLUME\"]):\n",
    "    string_stripped= string.replace(\"MULTILINESTRING\",\"\").replace(\"(\",\"\").replace(\")\",\"\").replace(\",\",\"\")\n",
    "    string_split = string_stripped.split()\n",
    "    float_split = [float(i) for i in string_split]\n",
    "\n",
    "    for i in range(int(len(float_split)/2)):\n",
    "        traffic_data.append([float_split[i*2+1],float_split[i*2],float(volume)])\n",
    "\n",
    "\n",
    "list_lat = [i[0] for i in traffic_data]\n",
    "list_long = [i[1] for i in traffic_data]\n",
    "list_weight = [i[2] for i in traffic_data]"
   ]
  },
  {
   "cell_type": "code",
   "execution_count": null,
   "metadata": {},
   "outputs": [],
   "source": [
    "#create map\n",
    "map_osm = folium.Map(location = [50.913577283979,-114.073657541927],control_scale = True, zoom_start=10)\n",
    "\n",
    "#add heatmap\n",
    "create_heatmap(list_lat, list_long, map_osm, heat_name = \"volume\", list_weight = list_weight)\n",
    "\n",
    "# create_grid_array(grid_array, map_osm)\n",
    "# create_markers(map_osm, grid_array)\n",
    "# folium.LayerControl().add_to(map_osm)\n",
    "\n",
    "# map_osm.save(\"traffic_heat_map_grid_marker.html\")\n",
    "# map_osm"
   ]
  },
  {
   "cell_type": "markdown",
   "metadata": {},
   "source": [
    "# Traffic camera heat map"
   ]
  },
  {
   "cell_type": "code",
   "execution_count": null,
   "metadata": {},
   "outputs": [],
   "source": [
    "#read traffic camera locations csv\n",
    "camera_df = pd.read_csv(\"..\\..\\CSV_files\\Traffic_Camera_Locations.csv\")\n",
    "camera_df"
   ]
  },
  {
   "cell_type": "code",
   "execution_count": null,
   "metadata": {},
   "outputs": [],
   "source": [
    "#parse data for lats and longs\n",
    "list_long = [i for i in camera_df[\"longitude\"]]\n",
    "list_lat = [i for i in camera_df[\"latitude\"]]"
   ]
  },
  {
   "cell_type": "code",
   "execution_count": null,
   "metadata": {},
   "outputs": [],
   "source": [
    "# map_osm = folium.Map(location = [50.913577283979,-114.073657541927],control_scale = True, zoom_start=10)\n",
    "\n",
    "#add heatmap\n",
    "create_heatmap(list_lat, list_long, map_osm, heat_name = \"camera\", r = 25)\n",
    "# create_grid_array(grid_array, map_osm)\n",
    "# create_markers(map_osm, grid_array)\n",
    "# folium.LayerControl().add_to(map_osm)\n",
    "\n",
    "# map_osm.save(\"traffic_heat_map_grid_marker.html\")\n",
    "# map_osm"
   ]
  },
  {
   "cell_type": "markdown",
   "metadata": {},
   "source": [
    "# Traffic signals heat map"
   ]
  },
  {
   "cell_type": "code",
   "execution_count": null,
   "metadata": {},
   "outputs": [],
   "source": [
    "#read traffic signals csv\n",
    "signals_df = pd.read_csv(\"..\\..\\CSV_files\\Traffic_Signals.csv\")\n",
    "signals_df"
   ]
  },
  {
   "cell_type": "code",
   "execution_count": null,
   "metadata": {},
   "outputs": [],
   "source": [
    "#parse data for lats and longs\n",
    "list_long = [i for i in signals_df[\"longitude\"]]\n",
    "list_lat = [i for i in signals_df[\"latitude\"]]"
   ]
  },
  {
   "cell_type": "code",
   "execution_count": null,
   "metadata": {},
   "outputs": [],
   "source": [
    "#create map\n",
    "# map_osm = folium.Map(location = [50.913577283979,-114.073657541927],control_scale = True, zoom_start=10)\n",
    "\n",
    "#add heatmap\n",
    "create_heatmap(list_lat, list_long, map_osm, heat_name = \"signals\", r = 17)\n",
    "# create_grid_array(grid_array, map_osm)\n",
    "# create_markers(map_osm, grid_array)\n",
    "# folium.LayerControl().add_to(map_osm)\n",
    "\n",
    "# map_osm.save(\"traffic_heat_map_grid_marker.html\")\n",
    "# map_osm"
   ]
  },
  {
   "cell_type": "markdown",
   "metadata": {},
   "source": [
    "# Traffic signs heat map"
   ]
  },
  {
   "cell_type": "code",
   "execution_count": null,
   "metadata": {},
   "outputs": [],
   "source": [
    "#read traffic signs csv\n",
    "signs_df = pd.read_csv(\"..\\..\\CSV_files\\Traffic_Signs.csv\")\n",
    "\n",
    "#drop nan and 0 values in sign count and sign type\n",
    "signs_df.dropna(subset=[\"SGN_COUNT_NO\"], how='all', inplace=True)\n",
    "signs_df.dropna(subset=[\"BLADE_TYPE\"], how='all', inplace=True)\n",
    "signs_df = signs_df[signs_df.SGN_COUNT_NO != 0]\n",
    "\n",
    "#list of \"irrelevant signs\" (parking signs, info signs etc.)\n",
    "signs_nan = ['Timed Parking','Park Plus','Parking Restrictions','Street Name','Snow Route','Guide / Information','Loading Zone','Residential Parking', 'Overhead Guide']\n",
    "\n",
    "#remove irrelevant signs\n",
    "signs_df = signs_df.loc[~signs_df[\"BLADE_TYPE\"].isin(signs_nan)]\n",
    "\n",
    "signs_df"
   ]
  },
  {
   "cell_type": "code",
   "execution_count": null,
   "metadata": {
    "tags": []
   },
   "outputs": [],
   "source": [
    "#parse data for lats, longs and weight (sign count)\n",
    "list_long = []\n",
    "list_lat = []\n",
    "list_weight = [i for i in signs_df[\"SGN_COUNT_NO\"]]\n",
    "\n",
    "#parse POINT string\n",
    "for row in signs_df[\"POINT\"]:\n",
    "    string_stripped = row.replace(\"POINT\", \"\").replace(\"(\", \"\").replace(\")\", \"\")\n",
    "    string_split = string_stripped.split()\n",
    "\n",
    "    list_long.append(float(string_split[0]))\n",
    "    list_lat.append(float(string_split[1]))"
   ]
  },
  {
   "cell_type": "code",
   "execution_count": null,
   "metadata": {},
   "outputs": [],
   "source": [
    "#create map\n",
    "# map_osm = folium.Map(location = [50.913577283979,-114.073657541927],control_scale = True, zoom_start=10)\n",
    "\n",
    "#add heatmap\n",
    "create_heatmap(list_lat, list_long, map_osm, heat_name = \"signs (all)\", list_weight = list_weight, r = 15)\n",
    "# create_grid_array(grid_array, map_osm)\n",
    "# create_markers(map_osm, grid_array)\n",
    "# folium.LayerControl().add_to(map_osm)\n",
    "\n",
    "# map_osm.save(\"traffic_heat_map_grid_marker.html\")\n",
    "# map_osm"
   ]
  },
  {
   "cell_type": "markdown",
   "metadata": {},
   "source": [
    "# Traffic incidents"
   ]
  },
  {
   "cell_type": "code",
   "execution_count": null,
   "metadata": {},
   "outputs": [],
   "source": [
    "#read traffic signs csv\n",
    "incidents_df = pd.read_csv(\"..\\..\\CSV_files\\Traffic_Incidents.csv\")\n",
    "\n",
    "#parse for 2018 data\n",
    "incidents_df = incidents_df[incidents_df.START_DT.str.contains(\"2018\")]\n",
    "incidents_df"
   ]
  },
  {
   "cell_type": "code",
   "execution_count": null,
   "metadata": {},
   "outputs": [],
   "source": [
    "#parse data for lats and longs\n",
    "list_long = [i for i in incidents_df[\"Longitude\"]]\n",
    "list_lat = [i for i in incidents_df[\"Latitude\"]]"
   ]
  },
  {
   "cell_type": "code",
   "execution_count": null,
   "metadata": {},
   "outputs": [],
   "source": [
    "#create map\n",
    "# map_osm = folium.Map(location = [50.913577283979,-114.073657541927],control_scale = True, zoom_start=10)\n",
    "\n",
    "#add heatmap\n",
    "create_heatmap(list_lat, list_long, map_osm, heat_name = \"incidents (rainbow)\", r = 20)\n",
    "create_heatmap_incidents(list_lat, list_long, map_osm, heat_name = \"incidents\", r = 20)\n",
    "# create_grid_array(grid_array, map_osm)\n",
    "# create_markers(map_osm, grid_array)\n",
    "# folium.LayerControl().add_to(map_osm)\n",
    "\n",
    "# map_osm.save(\"traffic_heat_map_grid_marker.html\")\n",
    "# map_osm"
   ]
  },
  {
   "cell_type": "markdown",
   "metadata": {},
   "source": [
    "# Traffic signs (stop, warning yield) specific heat map"
   ]
  },
  {
   "cell_type": "code",
   "execution_count": null,
   "metadata": {},
   "outputs": [],
   "source": [
    "#read traffic signs csv\n",
    "signs_df = pd.read_csv(\"..\\..\\CSV_files\\Traffic_Signs.csv\")\n",
    "\n",
    "#drop nan and 0 values in sign count and sign type\n",
    "signs_df.dropna(subset=[\"SGN_COUNT_NO\"], how='all', inplace=True)\n",
    "signs_df.dropna(subset=[\"BLADE_TYPE\"], how='all', inplace=True)\n",
    "signs_df = signs_df[signs_df.SGN_COUNT_NO != 0]\n",
    "\n",
    "#list of \"irrelevant signs\" (parking signs, info signs etc.)\n",
    "# signs_nan = ['Timed Parking','Park Plus','Parking Restrictions','Street Name','Snow Route','Guide / Information','Loading Zone','Disabled Parking','Residential Parking', 'Overhead Guide']\n",
    "\n",
    "#remove irrelevant signs\n",
    "signs_df = signs_df.loc[signs_df[\"BLADE_TYPE\"].isin([\"Stop\",\"Warning\",\"Yield\"])]\n",
    "\n",
    "signs_df"
   ]
  },
  {
   "cell_type": "code",
   "execution_count": null,
   "metadata": {},
   "outputs": [],
   "source": [
    "#parse data for lats, longs and weight (sign count)\n",
    "list_long = []\n",
    "list_lat = []\n",
    "list_weight = [i for i in signs_df[\"SGN_COUNT_NO\"]]\n",
    "\n",
    "#parse POINT string\n",
    "for row in signs_df[\"POINT\"]:\n",
    "    string_stripped = row.replace(\"POINT\", \"\").replace(\"(\", \"\").replace(\")\", \"\")\n",
    "    string_split = string_stripped.split()\n",
    "\n",
    "    list_long.append(float(string_split[0]))\n",
    "    list_lat.append(float(string_split[1]))"
   ]
  },
  {
   "cell_type": "code",
   "execution_count": null,
   "metadata": {},
   "outputs": [],
   "source": [
    "#create map\n",
    "# map_osm = folium.Map(location = [50.913577283979,-114.073657541927],control_scale = True, zoom_start=10)\n",
    "\n",
    "#add heatmap\n",
    "create_heatmap(list_lat, list_long, map_osm, heat_name = \"signs (stop, warning, yield)\", list_weight = list_weight, r = 15)\n",
    "# create_grid_array(grid_array, map_osm)\n",
    "# create_markers(map_osm, grid_array)\n",
    "# folium.LayerControl().add_to(map_osm)\n",
    "\n",
    "# map_osm.save(\"traffic_heat_map_grid_marker.html\")\n",
    "# map_osm"
   ]
  },
  {
   "cell_type": "markdown",
   "metadata": {},
   "source": [
    "# Traffic signs (speed) specific heat map"
   ]
  },
  {
   "cell_type": "code",
   "execution_count": null,
   "metadata": {},
   "outputs": [],
   "source": [
    "#read traffic signs csv\n",
    "signs_df = pd.read_csv(\"..\\..\\CSV_files\\Traffic_Signs.csv\")\n",
    "\n",
    "#drop nan and 0 values in sign count and sign type\n",
    "signs_df.dropna(subset=[\"SGN_COUNT_NO\"], how='all', inplace=True)\n",
    "signs_df.dropna(subset=[\"BLADE_TYPE\"], how='all', inplace=True)\n",
    "signs_df = signs_df[signs_df.SGN_COUNT_NO != 0]\n",
    "\n",
    "#list of \"irrelevant signs\" (parking signs, info signs etc.)\n",
    "# signs_nan = ['Timed Parking','Park Plus','Parking Restrictions','Street Name','Snow Route','Guide / Information','Loading Zone','Disabled Parking','Residential Parking', 'Overhead Guide']\n",
    "\n",
    "#remove irrelevant signs\n",
    "signs_df = signs_df.loc[signs_df[\"BLADE_TYPE\"].isin([\"Speed\"])]\n",
    "\n",
    "signs_df"
   ]
  },
  {
   "cell_type": "code",
   "execution_count": null,
   "metadata": {},
   "outputs": [],
   "source": [
    "#parse data for lats, longs and weight (sign count)\n",
    "list_long = []\n",
    "list_lat = []\n",
    "list_weight = [i for i in signs_df[\"SGN_COUNT_NO\"]]\n",
    "\n",
    "#parse POINT string\n",
    "for row in signs_df[\"POINT\"]:\n",
    "    string_stripped = row.replace(\"POINT\", \"\").replace(\"(\", \"\").replace(\")\", \"\")\n",
    "    string_split = string_stripped.split()\n",
    "\n",
    "    list_long.append(float(string_split[0]))\n",
    "    list_lat.append(float(string_split[1]))"
   ]
  },
  {
   "cell_type": "code",
   "execution_count": null,
   "metadata": {},
   "outputs": [],
   "source": [
    "#create map\n",
    "# map_osm = folium.Map(location = [50.913577283979,-114.073657541927],control_scale = True, zoom_start=10)\n",
    "\n",
    "#add heatmap\n",
    "create_heatmap(list_lat, list_long, map_osm, heat_name = \"signs (speed)\", list_weight = list_weight, r = 20)\n",
    "# create_grid_array(grid_array, map_osm)\n",
    "# create_markers(map_osm, grid_array)\n",
    "# folium.LayerControl().add_to(map_osm)\n",
    "\n",
    "# map_osm.save(\"traffic_heat_map_grid_marker.html\")\n",
    "# map_osm"
   ]
  },
  {
   "cell_type": "markdown",
   "metadata": {},
   "source": [
    "# Traffic signs (pedestrians and bicycle pathways) specific heat map"
   ]
  },
  {
   "cell_type": "code",
   "execution_count": null,
   "metadata": {},
   "outputs": [],
   "source": [
    "#read traffic signs csv\n",
    "signs_df = pd.read_csv(\"..\\..\\CSV_files\\Traffic_Signs.csv\")\n",
    "\n",
    "#drop nan and 0 values in sign count and sign type\n",
    "signs_df.dropna(subset=[\"SGN_COUNT_NO\"], how='all', inplace=True)\n",
    "signs_df.dropna(subset=[\"BLADE_TYPE\"], how='all', inplace=True)\n",
    "signs_df = signs_df[signs_df.SGN_COUNT_NO != 0]\n",
    "\n",
    "#list of \"irrelevant signs\" (parking signs, info signs etc.)\n",
    "# signs_nan = ['Timed Parking','Park Plus','Parking Restrictions','Street Name','Snow Route','Guide / Information','Loading Zone','Disabled Parking','Residential Parking', 'Overhead Guide']\n",
    "\n",
    "#remove irrelevant signs\n",
    "signs_df = signs_df.loc[signs_df[\"BLADE_TYPE\"].isin(['Pedestrian','Bicycle / Pathway'])]\n",
    "\n",
    "signs_df"
   ]
  },
  {
   "cell_type": "code",
   "execution_count": null,
   "metadata": {},
   "outputs": [],
   "source": [
    "#parse data for lats, longs and weight (sign count)\n",
    "list_long = []\n",
    "list_lat = []\n",
    "list_weight = [i for i in signs_df[\"SGN_COUNT_NO\"]]\n",
    "\n",
    "#parse POINT string\n",
    "for row in signs_df[\"POINT\"]:\n",
    "    string_stripped = row.replace(\"POINT\", \"\").replace(\"(\", \"\").replace(\")\", \"\")\n",
    "    string_split = string_stripped.split()\n",
    "\n",
    "    list_long.append(float(string_split[0]))\n",
    "    list_lat.append(float(string_split[1]))"
   ]
  },
  {
   "cell_type": "code",
   "execution_count": null,
   "metadata": {},
   "outputs": [],
   "source": [
    "#create map\n",
    "# map_osm = folium.Map(location = [50.913577283979,-114.073657541927],control_scale = True, zoom_start=10)\n",
    "\n",
    "#add heatmap\n",
    "create_heatmap(list_lat, list_long, map_osm, heat_name = \"signs (pedestrian, bicycle)\", list_weight = list_weight, r = 15)\n",
    "# create_grid_array(grid_array, map_osm)\n",
    "# create_markers(map_osm, grid_array)\n",
    "# folium.LayerControl().add_to(map_osm)\n",
    "\n",
    "# map_osm.save(\"traffic_heat_map_grid_marker.html\")\n",
    "# map_osm"
   ]
  },
  {
   "cell_type": "markdown",
   "metadata": {},
   "source": [
    "# Traffic signs (playground and schools) specific heat map"
   ]
  },
  {
   "cell_type": "code",
   "execution_count": null,
   "metadata": {},
   "outputs": [],
   "source": [
    "#read traffic signs csv\n",
    "signs_df = pd.read_csv(\"..\\..\\CSV_files\\Traffic_Signs.csv\")\n",
    "\n",
    "#drop nan and 0 values in sign count and sign type\n",
    "signs_df.dropna(subset=[\"SGN_COUNT_NO\"], how='all', inplace=True)\n",
    "signs_df.dropna(subset=[\"BLADE_TYPE\"], how='all', inplace=True)\n",
    "signs_df = signs_df[signs_df.SGN_COUNT_NO != 0]\n",
    "\n",
    "#list of \"irrelevant signs\" (parking signs, info signs etc.)\n",
    "# signs_nan = ['Timed Parking','Park Plus','Parking Restrictions','Street Name','Snow Route','Guide / Information','Loading Zone','Disabled Parking','Residential Parking', 'Overhead Guide']\n",
    "\n",
    "#remove irrelevant signs\n",
    "signs_df = signs_df.loc[signs_df[\"BLADE_TYPE\"].isin(['Playground','School'])]\n",
    "\n",
    "signs_df"
   ]
  },
  {
   "cell_type": "code",
   "execution_count": null,
   "metadata": {},
   "outputs": [],
   "source": [
    "#parse data for lats, longs and weight (sign count)\n",
    "list_long = []\n",
    "list_lat = []\n",
    "list_weight = [i for i in signs_df[\"SGN_COUNT_NO\"]]\n",
    "\n",
    "#parse POINT string\n",
    "for row in signs_df[\"POINT\"]:\n",
    "    string_stripped = row.replace(\"POINT\", \"\").replace(\"(\", \"\").replace(\")\", \"\")\n",
    "    string_split = string_stripped.split()\n",
    "\n",
    "    list_long.append(float(string_split[0]))\n",
    "    list_lat.append(float(string_split[1]))"
   ]
  },
  {
   "cell_type": "code",
   "execution_count": null,
   "metadata": {},
   "outputs": [],
   "source": [
    "#create map\n",
    "# map_osm = folium.Map(location = [50.913577283979,-114.073657541927],control_scale = True, zoom_start=10)\n",
    "\n",
    "#add heatmap\n",
    "create_heatmap(list_lat, list_long, map_osm, heat_name = \"signs (playground, school)\", list_weight = list_weight, r = 15)\n",
    "# create_grid_array(grid_array, map_osm)\n",
    "# create_markers(map_osm, grid_array)\n",
    "# folium.LayerControl().add_to(map_osm)\n",
    "\n",
    "# map_osm.save(\"layered_heat_map_grid_marker.html\")\n",
    "# map_osm"
   ]
  },
  {
   "cell_type": "markdown",
   "metadata": {},
   "source": [
    "# Speed limit road colors"
   ]
  },
  {
   "cell_type": "code",
   "execution_count": null,
   "metadata": {},
   "outputs": [],
   "source": [
    "#import traffic Speed Limits\n",
    "speed_df = pd.read_csv('..\\..\\CSV_files\\Speed_Limits.csv')\n",
    "\n",
    "#take relevant columns\n",
    "speed_df = speed_df[[\"SPEED\",\"multiline\"]]\n",
    "speed_df"
   ]
  },
  {
   "cell_type": "code",
   "execution_count": null,
   "metadata": {},
   "outputs": [],
   "source": [
    "#speed list\n",
    "list_speed = [i for i in speed_df[\"SPEED\"]]"
   ]
  },
  {
   "cell_type": "code",
   "execution_count": null,
   "metadata": {},
   "outputs": [],
   "source": [
    "#parse multiline string for coordinate list\n",
    "list_coord_row =[]\n",
    "\n",
    "for row in speed_df[\"multiline\"]:\n",
    "\n",
    "    #strip MULTILINESTRING and ( \n",
    "    string = row.replace(\"MULTILINESTRING\",\"\").replace(\"(\",\"\")\n",
    "\n",
    "    #split on every line\n",
    "    string_split = string.split(\"),\")\n",
    "\n",
    "    list_coord = []\n",
    "    for string in string_split:\n",
    "        #find coordinate pairs\n",
    "        pairs = string.split(\",\")\n",
    "        list_pair = []\n",
    "\n",
    "        for pair in pairs:\n",
    "            #convert each coordinate into a float\n",
    "            pair_strip = pair.strip().replace(\")\",\"\")\n",
    "            pair_split = pair_strip.split()\n",
    "            float_split = [float(i) for i in pair_split]\n",
    "\n",
    "            list_pair.append(tuple(float_split))\n",
    "        list_coord.append([list_pair])\n",
    "    list_coord_row.append(list_coord)"
   ]
  },
  {
   "cell_type": "code",
   "execution_count": null,
   "metadata": {},
   "outputs": [],
   "source": [
    "#create color gradient\n",
    "yellow = Color(\"yellow\")\n",
    "colors = list(yellow.range_to(Color(\"red\"),10))\n",
    "colors = [str(i) for i in colors]\n",
    "colors.insert(2,'#ffd400')\n",
    "colors.insert(4,'#ffb800',)\n",
    "\n",
    "keys = [i for i in range(20,111,10)]\n",
    "keys.append(35)\n",
    "keys.append(45)\n",
    "keys.sort()\n",
    "\n",
    "#create dictionary for speeds to corresponding color\n",
    "colors_dict = dict(zip(keys,colors))"
   ]
  },
  {
   "cell_type": "code",
   "execution_count": null,
   "metadata": {},
   "outputs": [],
   "source": [
    "#creating legend using pyplot\n",
    "fig, ax = plt.subplots()\n",
    "fig.set_size_inches(5, 10.5)\n",
    "handles = [mpatches.Patch(color=colors_dict[x], label=x) for x in colors_dict.keys()]\n",
    "ax.legend(handles = handles, fontsize = 30, loc = \"center\", title = \"Speed limit (km/h)\", title_fontsize = \"20\")\n",
    "fig.gca().set_axis_off()\n",
    "fig.savefig(\"..\\..\\HTML_files\\legend.png\")"
   ]
  },
  {
   "cell_type": "code",
   "execution_count": null,
   "metadata": {},
   "outputs": [],
   "source": [
    "feature_speed = folium.map.FeatureGroup(name = \"speed limits\", overlay = True, show = True)\n",
    "\n",
    "#add legend image to html\n",
    "FloatImage(\"legend.png\", bottom=-10, left=85).add_to(feature_speed)\n",
    "\n",
    "#add roads and their corresponding color based on the speed limit\n",
    "for row,speed in zip(list_coord_row, list_speed):\n",
    "    for line in row:\n",
    "        for coordinate in line:\n",
    "            style = {'fillColor': colors_dict[speed], 'color': colors_dict[speed]}\n",
    "            lines = MultiLineString([coordinate])\n",
    "            geo = gpd.GeoSeries([lines]).__geo_interface__\n",
    "            folium.GeoJson(geo, style_function=lambda x, fillColor = style[\"fillColor\"], color = style[\"color\"]: {\"fillColor\": fillColor, \"color\": color}).add_to(feature_speed)"
   ]
  },
  {
   "cell_type": "code",
   "execution_count": null,
   "metadata": {},
   "outputs": [],
   "source": [
    "#create map\n",
    "# map_osm = folium.Map(location = [50.913577283979,-114.073657541927],control_scale = True, zoom_start=10)\n",
    "\n",
    "#add heatmap\n",
    "# create_heatmap(list_lat, list_long, map_osm, heat_name = \"signs (playground, school)\", list_weight = list_weight, r = 15)\n",
    "\n",
    "#create grid array and markers feature layers\n",
    "map_osm.add_child(feature_speed)\n",
    "create_grid_array(grid_array, map_osm)\n",
    "create_markers(map_osm, grid_array)\n",
    "\n",
    "#add layer control\n",
    "folium.LayerControl(position = \"bottomleft\").add_to(map_osm)\n",
    "\n",
    "map_osm.save(\"..\\..\\HTML_files\\layered_heat_map_grid_marker.html\")\n",
    "map_osm"
   ]
  }
 ],
 "metadata": {
  "kernelspec": {
   "display_name": "Python 3",
   "language": "python",
   "name": "python3"
  },
  "language_info": {
   "codemirror_mode": {
    "name": "ipython",
    "version": 3
   },
   "file_extension": ".py",
   "mimetype": "text/x-python",
   "name": "python",
   "nbconvert_exporter": "python",
   "pygments_lexer": "ipython3",
   "version": "3.7.6"
  }
 },
 "nbformat": 4,
 "nbformat_minor": 2
}