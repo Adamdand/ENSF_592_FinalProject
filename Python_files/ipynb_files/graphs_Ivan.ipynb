{
 "cells": [
  {
   "cell_type": "markdown",
   "metadata": {},
   "source": [
    "\\pagebreak"
   ]
  },
  {
   "cell_type": "markdown",
   "metadata": {},
   "source": [
    "## graphs_Ivan.ipynb (figure creation from grid data file)"
   ]
  },
  {
   "cell_type": "markdown",
   "metadata": {},
   "source": [
    "### Libraries and functions"
   ]
  },
  {
   "cell_type": "code",
   "execution_count": null,
   "metadata": {},
   "outputs": [],
   "source": [
    "%matplotlib inline\n",
    "\n",
    "import numpy as np\n",
    "import pandas as pd\n",
    "import matplotlib.pyplot as plt\n",
    "import seaborn as sns"
   ]
  },
  {
   "cell_type": "markdown",
   "metadata": {},
   "source": [
    "### Read combined data csv (containing grid data)"
   ]
  },
  {
   "cell_type": "code",
   "execution_count": null,
   "metadata": {},
   "outputs": [],
   "source": [
    "df = pd.read_csv('..\\..\\CSV_files\\Combined_Data.csv')"
   ]
  },
  {
   "cell_type": "markdown",
   "metadata": {},
   "source": [
    "\\pagebreak"
   ]
  },
  {
   "cell_type": "markdown",
   "metadata": {},
   "source": [
    "### Average speed limit vs. incident/volume ratio"
   ]
  },
  {
   "cell_type": "code",
   "execution_count": null,
   "metadata": {},
   "outputs": [],
   "source": [
    "sns.set(style=\"white\", rc={\"lines.linewidth\": 3})\n",
    "fig, ax1 = plt.subplots(figsize=(20,20))\n",
    "ax2 = ax1.twinx()\n",
    "\n",
    "sns.barplot(x='Grid', y='Average Speed Limit', data=df, color='cyan', ax=ax1)\n",
    "sns.lineplot(x='Grid', y='Incidents/Volume Ratio', color='r', data=df, ax=ax2)\n",
    "\n",
    "plt.locator_params(axis='x', nbins=20)\n",
    "\n",
    "plt.show()\n",
    "sns.set()"
   ]
  },
  {
   "cell_type": "markdown",
   "metadata": {},
   "source": [
    "### Traffic signals vs. incident/volume ratio"
   ]
  },
  {
   "cell_type": "code",
   "execution_count": null,
   "metadata": {},
   "outputs": [],
   "source": [
    "sns.set(style=\"white\", rc={\"lines.linewidth\": 3})\n",
    "fig, ax1 = plt.subplots(figsize=(20,20))\n",
    "ax2 = ax1.twinx()\n",
    "\n",
    "sns.barplot(x='Grid', y='Traffic Signals', data=df, color='cyan', ax=ax1)\n",
    "sns.lineplot(x='Grid', y='Incidents/Volume Ratio', color='r', data=df, ax=ax2)\n",
    "\n",
    "plt.locator_params(axis='x', nbins=20)\n",
    "\n",
    "plt.show()\n",
    "sns.set()"
   ]
  },
  {
   "cell_type": "markdown",
   "metadata": {},
   "source": [
    "\\pagebreak"
   ]
  },
  {
   "cell_type": "markdown",
   "metadata": {},
   "source": [
    "### Traffic cameras vs. incident/volume ratio"
   ]
  },
  {
   "cell_type": "code",
   "execution_count": null,
   "metadata": {},
   "outputs": [],
   "source": [
    "sns.set(style=\"white\", rc={\"lines.linewidth\": 3})\n",
    "fig, ax1 = plt.subplots(figsize=(20,20))\n",
    "ax2 = ax1.twinx()\n",
    "\n",
    "sns.barplot(x='Grid', y='Traffic Cameras', data=df, color='cyan', ax=ax1)\n",
    "sns.lineplot(x='Grid', y='Incidents/Volume Ratio', color='r', data=df, ax=ax2)\n",
    "\n",
    "plt.locator_params(axis='x', nbins=20)\n",
    "\n",
    "plt.show()\n",
    "sns.set()"
   ]
  },
  {
   "cell_type": "markdown",
   "metadata": {},
   "source": [
    "### Traffic signs vs. incident/volume ratio"
   ]
  },
  {
   "cell_type": "code",
   "execution_count": null,
   "metadata": {},
   "outputs": [],
   "source": [
    "sns.set(style=\"white\", rc={\"lines.linewidth\": 3})\n",
    "fig, ax1 = plt.subplots(figsize=(20,20))\n",
    "ax2 = ax1.twinx()\n",
    "\n",
    "sns.barplot(x='Grid', y='Traffic Signs', data=df, color='cyan', ax=ax1)\n",
    "sns.lineplot(x='Grid', y='Incidents/Volume Ratio', color='r', data=df, ax=ax2)\n",
    "\n",
    "plt.locator_params(axis='x', nbins=20)\n",
    "\n",
    "plt.show()\n",
    "sns.set()"
   ]
  }
 ],
 "metadata": {
  "kernelspec": {
   "display_name": "Python 3",
   "language": "python",
   "name": "python3"
  },
  "language_info": {
   "codemirror_mode": {
    "name": "ipython",
    "version": 3
   },
   "file_extension": ".py",
   "mimetype": "text/x-python",
   "name": "python",
   "nbconvert_exporter": "python",
   "pygments_lexer": "ipython3",
   "version": "3.7.6"
  }
 },
 "nbformat": 4,
 "nbformat_minor": 2
}