{
 "cells": [
  {
   "cell_type": "markdown",
   "metadata": {},
   "source": [
    "\\pagebreak"
   ]
  },
  {
   "cell_type": "markdown",
   "metadata": {},
   "source": [
    "## spearman.ipynb (spearman calculating\\pagebreak file)"
   ]
  },
  {
   "cell_type": "markdown",
   "metadata": {},
   "source": [
    "### Libraries and functions"
   ]
  },
  {
   "cell_type": "code",
   "execution_count": null,
   "metadata": {},
   "outputs": [],
   "source": [
    "import pandas as pd"
   ]
  },
  {
   "cell_type": "code",
   "execution_count": null,
   "metadata": {},
   "outputs": [],
   "source": [
    "#creates a list of rankings from a given list\n",
    "def ranking(input):\n",
    "    #saves the location of the items in the original list\n",
    "    value_index_pair = list(zip(input,range(len(input))))\n",
    "\n",
    "    #sorts the list by the value\n",
    "    value_index_pair_sorted = sorted(value_index_pair)\n",
    "\n",
    "    ranks = [0]*len(input)\n",
    "    #ranks the items in the list and stores it in the original location\n",
    "    for i, item in enumerate(value_index_pair_sorted):\n",
    "        #print(i,item)\n",
    "        ranks[item[1]] = i+1\n",
    "\n",
    "    return ranks"
   ]
  },
  {
   "cell_type": "code",
   "execution_count": null,
   "metadata": {},
   "outputs": [],
   "source": [
    "#computes the spearman coefficient given two ranking lists\n",
    "def compute_spearman_ranks(x_ranks,y_ranks):\n",
    "    n = len(x_ranks)\n",
    "\n",
    "    d_square = []\n",
    "\n",
    "    #d^2 for each row of data ranks input\n",
    "    for x,y in zip(x_ranks,y_ranks):\n",
    "        diff = x - y\n",
    "        d_square.append(diff**2)\n",
    "    \n",
    "    #sum of d^2 terms\n",
    "    sum_d_square = sum(d_square)\n",
    "\n",
    "    #calculate spearman coefficient\n",
    "    rs = 1 - (6*sum_d_square/(n*(n**2-1)))\n",
    "    return rs"
   ]
  },
  {
   "cell_type": "markdown",
   "metadata": {},
   "source": [
    "\\pagebreak"
   ]
  },
  {
   "cell_type": "markdown",
   "metadata": {},
   "source": [
    "### Read csv files"
   ]
  },
  {
   "cell_type": "code",
   "execution_count": null,
   "metadata": {},
   "outputs": [],
   "source": [
    "#read combined csv file (grid data)\n",
    "combined_df = pd.read_csv(\"..\\..\\CSV_files\\Combined_Data_2.csv\")\n",
    "\n",
    "#drop nan values in traffic volume\n",
    "combined_dropna_df = combined_df[combined_df[\"Average Traffic Volume\"].notna()]\n",
    "combined_dropna_df[\"Incidents/Volume Ratio\"] = combined_dropna_df[\"Total Incidents\"]/combined_dropna_df[\"Average Traffic Volume\"]\n",
    "\n",
    "#read weather data with incident count\n",
    "weather_df = pd.read_csv(\"..\\..\\CSV_files\\WeatherIncidents.csv\")"
   ]
  },
  {
   "cell_type": "markdown",
   "metadata": {},
   "source": [
    "\\pagebreak"
   ]
  },
  {
   "cell_type": "markdown",
   "metadata": {},
   "source": [
    "### Calculate and output spearman coefficients"
   ]
  },
  {
   "cell_type": "code",
   "execution_count": null,
   "metadata": {},
   "outputs": [],
   "source": [
    "#calculate incident ranking normalizing for traffic volume (for grid data) (x value)\n",
    "incident_volume = list(combined_dropna_df[\"Incidents/Volume Ratio\"])\n",
    "incident_volume_rank = ranking(incident_volume)\n",
    "\n",
    "#calculate incident ranking normalizing for daily rate(for weather data) (x value)\n",
    "incident_count = list(weather_df[\"Count\"])\n",
    "incident_count_rank = ranking(incident_count)\n",
    "\n",
    "#calculate camera number ranking (y value) and spearman coefficient\n",
    "cameras = list(combined_dropna_df[\"Total Cameras\"])\n",
    "cameras_rank = ranking(cameras)\n",
    "cameras_spear = compute_spearman_ranks(cameras_rank, incident_volume_rank)\n",
    "\n",
    "#calculate signals number ranking (y value) and spearman coefficient\n",
    "signals = list(combined_dropna_df[\"Total Signals\"])\n",
    "signals_rank = ranking(signals)\n",
    "signals_spear = compute_spearman_ranks(signals_rank, incident_volume_rank)\n",
    "\n",
    "#calculate signs number ranking (y value) and spearman coefficient\n",
    "signs = list(combined_dropna_df[\"Total Signs\"])\n",
    "signs_rank = ranking(signs)\n",
    "signs_spear = compute_spearman_ranks(signs_rank, incident_volume_rank)\n",
    "\n",
    "#remove nan values in average speed\n",
    "combined_dropna_df = combined_dropna_df[combined_dropna_df[\"Average Speed Limit\"].notna()]\n",
    "incident_volume = list(combined_dropna_df[\"Incidents/Volume Ratio\"])\n",
    "incident_volume_rank = ranking(incident_volume)\n",
    "\n",
    "#calculate speed number ranking (y value) and spearman coefficient\n",
    "speed = list(combined_dropna_df[\"Average Speed Limit\"])\n",
    "speed_rank = ranking(speed)\n",
    "speed_spear = compute_spearman_ranks(speed_rank, incident_volume_rank)\n",
    "\n",
    "#calculate visibility ranking (y value) and spearman coefficient\n",
    "visib = list(weather_df[\"Visibility (km)\"])\n",
    "visib_rank = ranking(visib)\n",
    "visib_spear = compute_spearman_ranks(visib_rank, incident_count_rank)\n",
    "\n",
    "#calculate temperature ranking (y value) and spearman coefficient\n",
    "temp = list(weather_df[\"Mean Temp (C)\"])\n",
    "temp_rank = ranking(temp)\n",
    "temp_spear = compute_spearman_ranks(temp_rank, incident_count_rank)"
   ]
  },
  {
   "cell_type": "code",
   "execution_count": null,
   "metadata": {
    "tags": []
   },
   "outputs": [],
   "source": [
    "#grid data spearman coefficients\n",
    "print(\"Grid data\")\n",
    "print(\"Spearman correlation against incident/volume\")\n",
    "print(\"Cameras:\",cameras_spear)\n",
    "print(\"Signals:\",signals_spear)\n",
    "print(\"Signs:\",signs_spear)\n",
    "print(\"Speed:\",speed_spear, \"\\n\")\n",
    "\n",
    "#weather data spearman coefficients\n",
    "print(\"Weather data\")\n",
    "print(\"Spearman correlation against average daily incidents\")\n",
    "print(\"Visibility:\",visib_spear)\n",
    "print(\"Temperature:\",temp_spear)"
   ]
  }
 ],
 "metadata": {
  "kernelspec": {
   "display_name": "Python 3",
   "language": "python",
   "name": "python3"
  },
  "language_info": {
   "codemirror_mode": {
    "name": "ipython",
    "version": 3
   },
   "file_extension": ".py",
   "mimetype": "text/x-python",
   "name": "python",
   "nbconvert_exporter": "python",
   "pygments_lexer": "ipython3",
   "version": "3.7.6"
  }
 },
 "nbformat": 4,
 "nbformat_minor": 2
}