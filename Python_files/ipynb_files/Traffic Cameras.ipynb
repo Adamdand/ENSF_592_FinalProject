{
 "cells": [
  {
   "cell_type": "markdown",
   "metadata": {},
   "source": [
    "## Traffic Cameras.ipynb (Traffic Cameras Analysis file)"
   ]
  },
  {
   "cell_type": "markdown",
   "metadata": {},
   "source": [
    "### Libraries and functions"
   ]
  },
  {
   "cell_type": "code",
   "execution_count": null,
   "metadata": {},
   "outputs": [],
   "source": [
    "%matplotlib inline\n",
    "import matplotlib\n",
    "\n",
    "import numpy as np\n",
    "import pandas as pd\n",
    "import matplotlib.pyplot as plt\n",
    "import seaborn as sns\n",
    "from csv import reader\n",
    "import folium"
   ]
  },
  {
   "cell_type": "markdown",
   "metadata": {},
   "source": [
    "\\pagebreak"
   ]
  },
  {
   "cell_type": "markdown",
   "metadata": {},
   "source": [
    "### Reading and merging data"
   ]
  },
  {
   "cell_type": "code",
   "execution_count": null,
   "metadata": {},
   "outputs": [],
   "source": [
    "#import traffic Camera location\n",
    "camera_df = pd.read_csv('..\\..\\CSV_files\\Traffic_Camera_Locations.csv')\n",
    "camera_df['data']='TrafficCameraLocations'\n",
    "#camera_df.head() #<-- visual QC of dataframe"
   ]
  },
  {
   "cell_type": "code",
   "execution_count": null,
   "metadata": {},
   "outputs": [],
   "source": [
    "#add traffic incidents\n",
    "incidents_df = pd.read_csv('..\\..\\CSV_files\\Traffic_Incidents.csv')\n",
    "incidents_df['data']='Camera - Incident' #create a new column, to identify which dataframe the data came from after the merge\n",
    "#rename columns so they match other dataframes columns - makes it easier for the merge\n",
    "incidents_df=incidents_df.rename(columns={'Latitude':'latitude','Longitude':'longitude','Count':'Incidents'})\n",
    "#incidents_df.head() #<-- visual QC of dataframe"
   ]
  },
  {
   "cell_type": "code",
   "execution_count": null,
   "metadata": {},
   "outputs": [],
   "source": [
    "#data given to 6 significant digets. Here we reduce it to 4, so that camera data will be matched up with accidents that occured\n",
    "#within ~10m's\n",
    "incidents_df = incidents_df.round({'latitude':4, 'longitude':4}) \n",
    "camera_df = camera_df.round({'latitude':4, 'longitude':4})\n",
    "#camera_df.head() #<-- visual QC of dataframe"
   ]
  },
  {
   "cell_type": "code",
   "execution_count": null,
   "metadata": {
    "scrolled": true
   },
   "outputs": [],
   "source": [
    "#merging two dataframes into df_total. merging on camera_df so we can determine which cameras has an incident occur near them\n",
    "df_total = pd.merge(left=incidents_df, right=camera_df, how='right', left_on=['latitude','longitude'], right_on=['latitude','longitude'])\n",
    "#nan data in \"data_x\" column belong to camera rows that had no incidents\n",
    "#so replace those nan values with \"Camera - no incident\", so we can \"group-by\" later to count number of \"camera no incident\"\n",
    "# and \"camera - incident\".\n",
    "df_total['data_x'] = df_total['data_x'].fillna(\"Camera - no incident\")\n",
    "#need to fill \"incidents\" with a \"1\" value for even the non-incident rows, so that we have something to count when we 'groupby'\n",
    "df_total['Incidents'] = df_total['Incidents'].fillna(1)\n",
    "df_total= df_total.rename(columns={\"Incidents\":\"Count\"})  #rename incidents to count, so the title makes more sense\n",
    "#df_total.head() #<-- visual QC of dataframe"
   ]
  },
  {
   "cell_type": "markdown",
   "metadata": {},
   "source": [
    "\\pagebreak"
   ]
  },
  {
   "cell_type": "markdown",
   "metadata": {},
   "source": [
    "### Table showing the percentage of cameras that caught an incident (within ~10m of a camera (Table))"
   ]
  },
  {
   "cell_type": "code",
   "execution_count": null,
   "metadata": {},
   "outputs": [],
   "source": [
    "#'groupby-sum' /(count) the number of incident rows, and non-incident rows. and put into a nice table\n",
    "df_total = df_total.groupby(['data_x']).sum()\n",
    "#df_total   #4 decimal points =~10m radius around camera latitudes and longitudes"
   ]
  },
  {
   "cell_type": "code",
   "execution_count": null,
   "metadata": {},
   "outputs": [],
   "source": [
    "#It would be nice to calculate % of cameras that caught incidents in the above table\n",
    "#To do that, need to calculate total first\n",
    "totalCount = df_total['Count'].sum()\n",
    "#totalCount #<-- visual QC check\n",
    "df_total['%'] = (df_total['Count']/totalCount)*100\n",
    "df_total = df_total[['Count','%']]\n",
    "df_total #<-- show table"
   ]
  },
  {
   "cell_type": "markdown",
   "metadata": {},
   "source": [
    "\\pagebreak"
   ]
  },
  {
   "cell_type": "markdown",
   "metadata": {},
   "source": [
    "### Cameras near incidents (bar graph)"
   ]
  },
  {
   "cell_type": "code",
   "execution_count": null,
   "metadata": {},
   "outputs": [],
   "source": [
    "#create histogram plot of above data\n",
    "df_total=df_total.reset_index()\n",
    "fig,ax = plt.subplots(figsize=(15,7))\n",
    "\n",
    "sns.barplot(x = 'data_x', y = '%', data = df_total)\n",
    "\n",
    "plt.ylabel(\"Percentage (%)\",fontsize=20)\n",
    "plt.xlabel(\"Cameras\",fontsize=20)\n",
    "plt.title(\"Cameras that Caught Incidents\",fontsize=24)"
   ]
  },
  {
   "cell_type": "markdown",
   "metadata": {},
   "source": [
    "\\pagebreak"
   ]
  },
  {
   "cell_type": "markdown",
   "metadata": {},
   "source": [
    "### Traffic Cameras (part 2)"
   ]
  },
  {
   "cell_type": "code",
   "execution_count": null,
   "metadata": {},
   "outputs": [],
   "source": [
    "# Re-Doing above tables and graphs, but merging onto \"incident dataframe\", so that we can determine\n",
    "# how many incidents occured near cameras (oposite of the above)\n",
    "incidents_df = incidents_df.round({'latitude':4, 'longitude':4}) #rounding lat and long aloud them to be grouped wihtin a 10m accuracy\n",
    "camera_df = camera_df.round({'latitude':4, 'longitude':4})      #this is nice, because accidents and cameras dont need to occur exactly ontop of eachother\n",
    "camera_df.data = 'Incidents with Cameras' #change input calues of 'data' column to set up for histogram plot later\n",
    "#camera_df#<-- visual QC of dataframe"
   ]
  },
  {
   "cell_type": "code",
   "execution_count": null,
   "metadata": {
    "scrolled": true
   },
   "outputs": [],
   "source": [
    "#merge data on traffic incidents this time. so we have the total amount of incidents, but only some of them have camera data\n",
    "#this allows us to compare how many incidents had cameras near them\n",
    "df_total = pd.merge(left=incidents_df, right=camera_df, how='left', left_on=['latitude','longitude'], right_on=['latitude','longitude'])\n",
    "df_total['data_x'] = df_total['data_x'].fillna(\"Camera\")\n",
    "df_total['data_y'] = df_total['data_y'].fillna('Incidents with NO Cameras') #filled na's with a proper name, so we can groupby.\n",
    "df_total= df_total.rename(columns={\"Incidents\":\"Count\"})  \n",
    "#df_total.tail(20)#<-- visual QC of dataframe"
   ]
  },
  {
   "cell_type": "code",
   "execution_count": null,
   "metadata": {},
   "outputs": [],
   "source": [
    "totalCount = df_total['Count'].sum() #calculate the total rows, so we can calculate percentage\n",
    "#totalCount #<-- visual QC of output"
   ]
  },
  {
   "cell_type": "markdown",
   "metadata": {},
   "source": [
    "\\pagebreak"
   ]
  },
  {
   "cell_type": "markdown",
   "metadata": {},
   "source": [
    "### Number and percentage of incidents that occur with and without a camera nearby (Table)"
   ]
  },
  {
   "cell_type": "code",
   "execution_count": null,
   "metadata": {},
   "outputs": [],
   "source": [
    "df_total2 = df_total.groupby(['data_y']).sum()\n",
    "df_total2['%'] = (df_total2['Count']/totalCount)*100\n",
    "df_total2 = df_total2[['Count','%']]\n",
    "#JOINED ONTO INCIDENTS, so we see only incident rows, and can see how many have cameras\n",
    "df_total2 #<-- show table"
   ]
  },
  {
   "cell_type": "markdown",
   "metadata": {},
   "source": [
    "\\pagebreak"
   ]
  },
  {
   "cell_type": "markdown",
   "metadata": {},
   "source": [
    "### Incidents that occured with and without a camera nearby (bar graph)"
   ]
  },
  {
   "cell_type": "code",
   "execution_count": null,
   "metadata": {},
   "outputs": [],
   "source": [
    "#create histogram\n",
    "df_total2=df_total2.reset_index()\n",
    "fig,ax = plt.subplots(figsize=(15,7))\n",
    "sns.barplot(x = 'data_y', y = '%', data = df_total2)\n",
    "\n",
    "plt.ylabel(\"Percentage (%)\",fontsize=20)\n",
    "plt.xlabel(\"Incidents\",fontsize=20)\n",
    "plt.title(\"Incidents Caught by Camera\",fontsize=24)"
   ]
  }
 ],
 "metadata": {
  "kernelspec": {
   "display_name": "Python 3",
   "language": "python",
   "name": "python3"
  },
  "language_info": {
   "codemirror_mode": {
    "name": "ipython",
    "version": 3
   },
   "file_extension": ".py",
   "mimetype": "text/x-python",
   "name": "python",
   "nbconvert_exporter": "python",
   "pygments_lexer": "ipython3",
   "version": "3.7.6"
  }
 },
 "nbformat": 4,
 "nbformat_minor": 4
}