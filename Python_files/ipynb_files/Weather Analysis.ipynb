{
 "cells": [
  {
   "cell_type": "markdown",
   "metadata": {},
   "source": [
    "\\pagebreak"
   ]
  },
  {
   "cell_type": "markdown",
   "metadata": {},
   "source": [
    "## Weather Analysis.ipynb (Weather Analysis File)"
   ]
  },
  {
   "cell_type": "code",
   "execution_count": null,
   "metadata": {},
   "outputs": [],
   "source": [
    "import numpy as np\n",
    "import pandas as pd\n",
    "import folium\n",
    "import geopandas as gpd\n",
    "from shapely.geometry import Polygon\n",
    "from shapely.geometry import box\n",
    "import matplotlib.pyplot as plt\n",
    "import seaborn as sns"
   ]
  },
  {
   "cell_type": "markdown",
   "metadata": {},
   "source": [
    "\\pagebreak"
   ]
  },
  {
   "cell_type": "markdown",
   "metadata": {},
   "source": [
    "### Reading and merging data"
   ]
  },
  {
   "cell_type": "code",
   "execution_count": null,
   "metadata": {},
   "outputs": [],
   "source": [
    "#add traffic incidents\n",
    "incidents_df = pd.read_csv('..\\..\\CSV_files\\Traffic_Incidents.csv') #get data from CSV file\n",
    "incidents_df['data']='TrafficIncidents' #create \"data\" column to record which dataframe this data came from for later\n",
    "#rename columns so they match other dataframes\n",
    "incidents_df=incidents_df.rename(columns={'Latitude':'latitude','Longitude':'longitude'})\n",
    "#incidents_df.head() #<-- used for visual QC"
   ]
  },
  {
   "cell_type": "code",
   "execution_count": null,
   "metadata": {},
   "outputs": [],
   "source": [
    "#split Start_DT into Day/Month/Year (because only interested in 2018)\n",
    "incidents_df = pd.DataFrame(incidents_df)\n",
    "incidents_df['MonthDayYear']=incidents_df['START_DT'].str[:10] #re-arrage columns values, and rename\n",
    "#incidents_df.head() #<-- used for visual QC"
   ]
  },
  {
   "cell_type": "code",
   "execution_count": null,
   "metadata": {},
   "outputs": [],
   "source": [
    "incidents_df = incidents_df.groupby('MonthDayYear')['Count','longitude','latitude','MonthDayYear'].sum()\n",
    "incidents_df['MonthDayYear']= incidents_df.index\n",
    "#incidents_df #<-- for visual QC (dont worry, there will be a python warning when this code executes, that is because\n",
    "#                   the index has the same title as another column in the dataframe, but this column will soon \n",
    "#                    me altered in later steps)"
   ]
  },
  {
   "cell_type": "code",
   "execution_count": null,
   "metadata": {},
   "outputs": [],
   "source": [
    "#Seperating the Year,Day and Month from a combined column in the DataFrame. This later allows us to plot more interesting plots\n",
    "incidents_df = pd.DataFrame(incidents_df)\n",
    "incidents_df['Year']=incidents_df['MonthDayYear'].str[6:10]\n",
    "incidents_df = incidents_df.loc[incidents_df['Year'] == '2018'] #only interested in 2018\n",
    "incidents_df['Day']=incidents_df['MonthDayYear'].str[3:5]\n",
    "incidents_df['Month']=incidents_df['MonthDayYear'].str[:2]\n",
    "#incidents_df #<-- used to visualy QC DataFrame"
   ]
  },
  {
   "cell_type": "code",
   "execution_count": null,
   "metadata": {},
   "outputs": [],
   "source": [
    "#need to change datatypes of Year, Month and Day from Object to Integer for the merge of dataframes\n",
    "incidents_df['Year']= incidents_df['Year'].astype(str).astype(int)\n",
    "incidents_df['Month']= incidents_df['Month'].astype(str).astype(int)\n",
    "incidents_df['Day']= incidents_df['Day'].astype(str).astype(int)"
   ]
  },
  {
   "cell_type": "code",
   "execution_count": null,
   "metadata": {},
   "outputs": [],
   "source": [
    "#Lets get the Weather Daily Data Now\n",
    "pd.set_option('display.max_columns', None)\n",
    "pd.set_option('display.max_rows', None)\n",
    "\n",
    "# returns a DataFrame with weather data from \"climate.weather.gc.ca\"\n",
    "def download_weather_data(station, year, month=1, daily=True):\n",
    "\n",
    "    # url to retrieve hourly data\n",
    "    url_template_hourly = \"https://climate.weather.gc.ca/climate_data/bulk_data_e.html?format=csv&stationID={station}&Year={year}&Month={month}&Day=14&timeframe=1&submit=Download+Data\"\n",
    "\n",
    "    # url to retrieve daily data\n",
    "    url_template_daily = \"https://climate.weather.gc.ca/climate_data/bulk_data_e.html?format=csv&stationID={station}&Year={year}&Month={month}&Day=14&timeframe=2&submit=Download+Data\"\n",
    "\n",
    "    # daily data by default\n",
    "    if(daily == True):\n",
    "        url = url_template_daily.format(station=station, year=year, month=month)\n",
    "    \n",
    "    # hourly data when (daily == False)\n",
    "    else:\n",
    "        url = url_template_hourly.format(station=station, year=year, month=month)\n",
    "\n",
    "    # read data into dataframe, use headers and set Date/Time column as index\n",
    "    weather_data = pd.read_csv(url, index_col='Date/Time', parse_dates=True)\n",
    "\n",
    "    # replace the degree symbol in the column names\n",
    "    weather_data.columns = [col.replace('\\xb0', '') for col in weather_data.columns]\n",
    "\n",
    "    return weather_data"
   ]
  },
  {
   "cell_type": "code",
   "execution_count": null,
   "metadata": {},
   "outputs": [],
   "source": [
    "df = download_weather_data(50430, 2018) #<-- get hourly weather"
   ]
  },
  {
   "cell_type": "code",
   "execution_count": null,
   "metadata": {},
   "outputs": [],
   "source": [
    "#rename some columns to make them match other dataframes\n",
    "df = df.rename(columns={\"Longitude (x)\":\"longitude\" , \"Latitude (y)\":\"latitude\"})\n",
    "Daily_Weather = df[['latitude','longitude','Station Name','Year','Month','Day','Mean Temp (C)']]\n",
    "Daily_Weather['data']='Weather'\n",
    "#Daily_Weather <-- visual QC"
   ]
  },
  {
   "cell_type": "code",
   "execution_count": null,
   "metadata": {},
   "outputs": [],
   "source": [
    "Hourly_Weather = download_weather_data(50430, 2018, daily=False) # <-- get hourly Data (visibility)\n",
    "#rename some columns to make them match other dataframes, also add column to record where this data came from for after merge\n",
    "Hourly_Weather = Hourly_Weather.rename(columns={\"Longitude (x)\":\"longitude\" , \"Latitude (y)\":\"latitude\"})\n",
    "Hourly_Weather['data']='Weather'\n",
    "#Hourly_Weather.head() #<-- visual QC"
   ]
  },
  {
   "cell_type": "code",
   "execution_count": null,
   "metadata": {},
   "outputs": [],
   "source": [
    "#groupby.mean() on \"Day\" column, to get the average visibulity for each day (daily data was requested for thsi report)\n",
    "Hourly_Weather = Hourly_Weather.groupby('Day')['longitude','latitude','Visibility (km)','Year','Month','Day'].mean()\n",
    "#Hourly_Weather.head() #<-- will get a warning because index has same name as a column, but it is okay for now."
   ]
  },
  {
   "cell_type": "code",
   "execution_count": null,
   "metadata": {},
   "outputs": [],
   "source": [
    "#continue with above strategy, pulling in all weather data for each month\n",
    "Hourly_Weather2 = download_weather_data(50430, 2018, month = 2, daily=False)\n",
    "Hourly_Weather2 = Hourly_Weather2.rename(columns={\"Longitude (x)\":\"longitude\" , \"Latitude (y)\":\"latitude\"})\n",
    "Hourly_Weather2['data']='Weather'\n",
    "Hourly_Weather2 = Hourly_Weather2.groupby('Day')['longitude','latitude','Visibility (km)','Year','Month','Day'].mean()\n",
    "\n",
    "Hourly_Weather3 = download_weather_data(50430, 2018, month = 3, daily=False)\n",
    "Hourly_Weather3 = Hourly_Weather3.rename(columns={\"Longitude (x)\":\"longitude\" , \"Latitude (y)\":\"latitude\"})\n",
    "Hourly_Weather3['data']='Weather'\n",
    "Hourly_Weather3 = Hourly_Weather3.groupby('Day')['longitude','latitude','Visibility (km)','Year','Month','Day'].mean()\n",
    "\n",
    "Hourly_Weather4 = download_weather_data(50430, 2018, month = 4, daily=False)\n",
    "Hourly_Weather4 = Hourly_Weather4.rename(columns={\"Longitude (x)\":\"longitude\" , \"Latitude (y)\":\"latitude\"})\n",
    "Hourly_Weather4['data']='Weather'\n",
    "Hourly_Weather4 = Hourly_Weather4.groupby('Day')['longitude','latitude','Visibility (km)','Year','Month','Day'].mean()\n",
    "\n",
    "Hourly_Weather5 = download_weather_data(50430, 2018, month = 5, daily=False)\n",
    "Hourly_Weather5 = Hourly_Weather5.rename(columns={\"Longitude (x)\":\"longitude\" , \"Latitude (y)\":\"latitude\"})\n",
    "Hourly_Weather5['data']='Weather'\n",
    "Hourly_Weather5 = Hourly_Weather5.groupby('Day')['longitude','latitude','Visibility (km)','Year','Month','Day'].mean()\n",
    "\n",
    "Hourly_Weather6 = download_weather_data(50430, 2018, month = 6, daily=False)\n",
    "Hourly_Weather6 = Hourly_Weather6.rename(columns={\"Longitude (x)\":\"longitude\" , \"Latitude (y)\":\"latitude\"})\n",
    "Hourly_Weather6['data']='Weather'\n",
    "Hourly_Weather6 = Hourly_Weather6.groupby('Day')['longitude','latitude','Visibility (km)','Year','Month','Day'].mean()\n",
    "\n",
    "Hourly_Weather7 = download_weather_data(50430, 2018, month = 7, daily=False)\n",
    "Hourly_Weather7 = Hourly_Weather7.rename(columns={\"Longitude (x)\":\"longitude\" , \"Latitude (y)\":\"latitude\"})\n",
    "Hourly_Weather7['data']='Weather'\n",
    "Hourly_Weather7 = Hourly_Weather7.groupby('Day')['longitude','latitude','Visibility (km)','Year','Month','Day'].mean()\n",
    "\n",
    "Hourly_Weather8 = download_weather_data(50430, 2018, month = 8, daily=False)\n",
    "Hourly_Weather8 = Hourly_Weather8.rename(columns={\"Longitude (x)\":\"longitude\" , \"Latitude (y)\":\"latitude\"})\n",
    "Hourly_Weather8['data']='Weather'\n",
    "Hourly_Weather8 = Hourly_Weather8.groupby('Day')['longitude','latitude','Visibility (km)','Year','Month','Day'].mean()\n",
    "\n",
    "Hourly_Weather9 = download_weather_data(50430, 2018, month = 9, daily=False)\n",
    "Hourly_Weather9 = Hourly_Weather9.rename(columns={\"Longitude (x)\":\"longitude\" , \"Latitude (y)\":\"latitude\"})\n",
    "Hourly_Weather9['data']='Weather'\n",
    "Hourly_Weather9 = Hourly_Weather9.groupby('Day')['longitude','latitude','Visibility (km)','Year','Month','Day'].mean()\n",
    "\n",
    "Hourly_Weather10 = download_weather_data(50430, 2018, month = 10, daily=False)\n",
    "Hourly_Weather10= Hourly_Weather10.rename(columns={\"Longitude (x)\":\"longitude\" , \"Latitude (y)\":\"latitude\"})\n",
    "Hourly_Weather10['data']='Weather'\n",
    "Hourly_Weather10 = Hourly_Weather10.groupby('Day')['longitude','latitude','Visibility (km)','Year','Month','Day'].mean()\n",
    "\n",
    "Hourly_Weather11 = download_weather_data(50430, 2018, month = 11, daily=False)\n",
    "Hourly_Weather11 = Hourly_Weather11.rename(columns={\"Longitude (x)\":\"longitude\" , \"Latitude (y)\":\"latitude\"})\n",
    "Hourly_Weather11['data']='Weather'\n",
    "Hourly_Weather11 = Hourly_Weather11.groupby('Day')['longitude','latitude','Visibility (km)','Year','Month','Day'].mean()\n",
    "\n",
    "Hourly_Weather12 = download_weather_data(50430, 2018, month = 12, daily=False)\n",
    "Hourly_Weather12 = Hourly_Weather12.rename(columns={\"Longitude (x)\":\"longitude\" , \"Latitude (y)\":\"latitude\"})\n",
    "Hourly_Weather12['data']='Weather'\n",
    "Hourly_Weather12 = Hourly_Weather12.groupby('Day')['longitude','latitude','Visibility (km)','Year','Month','Day'].mean()\n",
    "\n",
    "#combined all data\n",
    "hourly_Weather_Total = pd.concat([Hourly_Weather,Hourly_Weather2,Hourly_Weather3,Hourly_Weather4,Hourly_Weather5,\\\n",
    "                                  Hourly_Weather6,Hourly_Weather7, Hourly_Weather8, Hourly_Weather9, Hourly_Weather10,\\\n",
    "                                 Hourly_Weather11, Hourly_Weather12])\n",
    "#hourly_Weather_Total"
   ]
  },
  {
   "cell_type": "code",
   "execution_count": null,
   "metadata": {
    "scrolled": false
   },
   "outputs": [],
   "source": [
    "#JOIN HOURLY WEATHER TO DAILY WEATHER\n",
    "Daily_Weather.index.name=None\n",
    "hourly_Weather_Total.index.name=None\n",
    "total_weather = pd.merge(left=hourly_Weather_Total, right=Daily_Weather, how='outer', left_on=['Year','Month','Day'], right_on=['Year','Month','Day'])\n",
    "#total_weather.head() #<-- QC check"
   ]
  },
  {
   "cell_type": "markdown",
   "metadata": {},
   "source": [
    "\\pagebreak"
   ]
  },
  {
   "cell_type": "markdown",
   "metadata": {},
   "source": [
    "### Table of general statistics of temperature and visibility (Table)"
   ]
  },
  {
   "cell_type": "code",
   "execution_count": null,
   "metadata": {},
   "outputs": [],
   "source": [
    "analysis = total_weather[['Visibility (km)','Mean Temp (C)']] # only keep columns we are interested in\n",
    "analysis.describe() # <-- unhide to see table of temperature and visibility statistics in 2018"
   ]
  },
  {
   "cell_type": "code",
   "execution_count": null,
   "metadata": {},
   "outputs": [],
   "source": [
    "#combine Total Weather with collition Data\n",
    "Colition_weather_df = pd.merge(left=total_weather, right=incidents_df, how='left', left_on=['Year','Month','Day'], right_on=['Year','Month','Day'])\n",
    "Colition_weather_df=Colition_weather_df.reset_index()\n",
    "#Colition_weather_df #<-- visual QC\n",
    "#Colition_weather_df.to_csv(\"C:/Users/adamd/Desktop/WeatherIncidents.csv\") <- hard copy QC"
   ]
  },
  {
   "cell_type": "markdown",
   "metadata": {},
   "source": [
    "\\pagebreak"
   ]
  },
  {
   "cell_type": "markdown",
   "metadata": {},
   "source": [
    "### Number of days at each temperature (Histogram)"
   ]
  },
  {
   "cell_type": "code",
   "execution_count": null,
   "metadata": {},
   "outputs": [],
   "source": [
    "bins = [-30,-25,-20,-15,-10,-5,0,5,10,15,20,25,30]\n",
    "\n",
    "fig,ax = plt.subplots(figsize=(15,7))\n",
    "sns.distplot(Daily_Weather['Mean Temp (C)'],kde=False , bins = bins, hist_kws={\"rwidth\":0.8,'edgecolor':'black', 'alpha':1.0} )\n",
    "plt.ylabel(\"Days at Temperature\",fontsize=20)\n",
    "plt.xlabel(\"Temperature (C)\",fontsize=20)\n",
    "plt.title(\"Number of days at each Temperature\",fontsize=24)"
   ]
  },
  {
   "cell_type": "markdown",
   "metadata": {},
   "source": [
    "\\pagebreak"
   ]
  },
  {
   "cell_type": "markdown",
   "metadata": {},
   "source": [
    "### Daily incidents vs. binned mean temperature (C) (PointPlot)"
   ]
  },
  {
   "cell_type": "code",
   "execution_count": null,
   "metadata": {},
   "outputs": [],
   "source": [
    "# Your solution goes here\n",
    "bins = [-30,-25,-20,-15,-10,-5,0,5,10,15,20,25,30]\n",
    "Colition_weather_df['Temp Binned'] = pd.cut(Colition_weather_df['Mean Temp (C)'], bins=bins)\n",
    "\n",
    "fig,ax = plt.subplots(figsize=(15,7))\n",
    "g = sns.pointplot(x=\"Temp Binned\", y=\"Count\", data=Colition_weather_df , ci = None)\n",
    "g.set(ylim=(0, 50))\n",
    "\n",
    "plt.ylabel(\"Daily Incidents\",fontsize=20)\n",
    "plt.xlabel(\"Binned Mean Temperature (C)\",fontsize=20)\n",
    "plt.title(\"Daily Incidents vs. Binned Mean Temperature (C)\",fontsize=24)\n",
    "#Even though it looks like more colisions might happen around the temperatures of -10 and +10, it is only because there are\n",
    "#more days at those temperatures (see above). However % wise, there are very few days netween -20 and -20 C, yes we still have\n",
    "#on average 13 to 16 incidents"
   ]
  },
  {
   "cell_type": "markdown",
   "metadata": {},
   "source": [
    "\\pagebreak"
   ]
  },
  {
   "cell_type": "markdown",
   "metadata": {},
   "source": [
    "### Mean temperature (C) per day (PointPlot)"
   ]
  },
  {
   "cell_type": "code",
   "execution_count": null,
   "metadata": {},
   "outputs": [],
   "source": [
    "fig,ax = plt.subplots(figsize=(15,7))\n",
    "sns.set(style=\"darkgrid\")\n",
    "g = sns.pointplot(x=\"index\", y=\"Mean Temp (C)\", data=Colition_weather_df, ci=None)\n",
    "ax.xaxis.set_major_formatter(plt.NullFormatter())\n",
    "\n",
    "plt.ylabel(\"Mean Temperature (C)\",fontsize=20)\n",
    "plt.xlabel(\"Jan        Feb        Mar        Apr        May        Jun       Jul       Aug       Sep       Oct       Nov       Dec\",fontsize=20)\n",
    "plt.title(\"Mean Temperature (C) per Day\",fontsize=24)"
   ]
  },
  {
   "cell_type": "markdown",
   "metadata": {},
   "source": [
    "\\pagebreak"
   ]
  },
  {
   "cell_type": "markdown",
   "metadata": {},
   "source": [
    "### Mean temperature (C) per month (PointPlot)"
   ]
  },
  {
   "cell_type": "code",
   "execution_count": null,
   "metadata": {},
   "outputs": [],
   "source": [
    "#PLotting some daily Weather Conditions (Temp and Visibility)\n",
    "fig,ax = plt.subplots(figsize=(15,7))\n",
    "sns.set(style=\"darkgrid\")\n",
    "g = sns.pointplot(x=\"Month\", y=\"Mean Temp (C)\", data=Colition_weather_df, ci=None)\n",
    "\n",
    "plt.ylabel(\"Mean Temperature (C)\",fontsize=20)\n",
    "plt.xlabel(\"Month\",fontsize=20)\n",
    "plt.title(\"Mean Temperature (C) per Month\",fontsize=24)"
   ]
  },
  {
   "cell_type": "markdown",
   "metadata": {},
   "source": [
    "\\pagebreak"
   ]
  },
  {
   "cell_type": "markdown",
   "metadata": {},
   "source": [
    "### Daily incidents per month (PointPlot)"
   ]
  },
  {
   "cell_type": "code",
   "execution_count": null,
   "metadata": {},
   "outputs": [],
   "source": [
    "#PLotting some daily Weather Conditions (Temp and Visibility)\n",
    "fig,ax = plt.subplots(figsize=(15,7))\n",
    "sns.set(style=\"darkgrid\")\n",
    "g = sns.pointplot(x=\"Month\", y=\"Count\", data=Colition_weather_df, ci=None)\n",
    "\n",
    "plt.ylabel(\"Daily Incidents\",fontsize=20)\n",
    "plt.xlabel(\"Month\",fontsize=20)\n",
    "plt.title(\"Daily Incidents per Month\",fontsize=24)"
   ]
  },
  {
   "cell_type": "markdown",
   "metadata": {},
   "source": [
    "\\pagebreak"
   ]
  },
  {
   "cell_type": "markdown",
   "metadata": {},
   "source": [
    "### Average visibility (km)  per day (PointPlot)"
   ]
  },
  {
   "cell_type": "code",
   "execution_count": null,
   "metadata": {},
   "outputs": [],
   "source": [
    "fig,ax = plt.subplots(figsize=(15,7))\n",
    "sns.set(style=\"darkgrid\")\n",
    "g = sns.pointplot(x=\"index\", y=\"Visibility (km)\", data=Colition_weather_df, ci=None)\n",
    "\n",
    "ax.xaxis.set_major_formatter(plt.NullFormatter())\n",
    "\n",
    "plt.ylabel(\"Visibility (km)\",fontsize=20)\n",
    "plt.xlabel(\"Jan        Feb        Mar        Apr        May        Jun       Jul       Aug       Sep       Oct       Nov       Dec\",fontsize=20)\n",
    "plt.title(\"Visibility (km)  per Day\",fontsize=24)"
   ]
  },
  {
   "cell_type": "markdown",
   "metadata": {},
   "source": [
    "\\pagebreak"
   ]
  },
  {
   "cell_type": "markdown",
   "metadata": {},
   "source": [
    "### Average visibility (km) per month (PointPlot)"
   ]
  },
  {
   "cell_type": "code",
   "execution_count": null,
   "metadata": {},
   "outputs": [],
   "source": [
    "fig,ax = plt.subplots(figsize=(15,7))\n",
    "sns.set(style=\"darkgrid\")\n",
    "g = sns.pointplot(x=\"Month\", y=\"Visibility (km)\", data=Colition_weather_df, ci=None )\n",
    "\n",
    "plt.ylabel(\"Average Vsisibility (km)\",fontsize=20)\n",
    "plt.xlabel(\"Month\",fontsize=20)\n",
    "plt.title(\"Average Visibility (km) per Month\",fontsize=24)"
   ]
  },
  {
   "cell_type": "code",
   "execution_count": null,
   "metadata": {},
   "outputs": [],
   "source": [
    "#Needed to calculate min and max of visibility data, this will be used to help determine bin sizes for following figures\n",
    "maximum = Colition_weather_df['Visibility (km)'].max()\n",
    "minimum = Colition_weather_df['Visibility (km)'].min()\n",
    "#print(maximum, minimum) #<-- visual QC"
   ]
  },
  {
   "cell_type": "markdown",
   "metadata": {},
   "source": [
    "\\pagebreak"
   ]
  },
  {
   "cell_type": "markdown",
   "metadata": {},
   "source": [
    "### Daily incidents vs visibility (km) (PointPlot)"
   ]
  },
  {
   "cell_type": "code",
   "execution_count": null,
   "metadata": {},
   "outputs": [],
   "source": [
    "#create plot of Daily Incidents vs. Average Visibility\n",
    "Colition_weather_df= Colition_weather_df.sort_values(by=['Visibility (km)'])\n",
    "\n",
    "labels = ['0 to 2km','2 to 4km','4 to 6km','6 to 8km','8 to 10km','10 to 15km','15 to 20km','20 to 25km','25 to 30km','30 to 35km','35 to 40km','40 to 45km','45 to 50km','50 to 55km']\n",
    "bins = [0,2,4,6,8,10,15,20,25,30,35,40,45,50,55]\n",
    "\n",
    "Colition_weather_df['visibility_binned']= pd.cut(Colition_weather_df['Visibility (km)'], bins=bins, labels=labels)\n",
    "\n",
    "fig,ax = plt.subplots(figsize=(15,7))\n",
    "sns.set(style=\"darkgrid\")\n",
    "g = sns.pointplot(x=\"visibility_binned\", y=\"Count\", data=Colition_weather_df, ci=None).set_title('Road Incidents vs. Road Visiblity (km)')\n",
    "\n",
    "plt.ylabel(\"Daily Incidents\",fontsize=20)\n",
    "plt.xlabel(\"Average Visibility (km)\",fontsize=20)\n",
    "plt.title(\"Daily Incidents vs Visibility (km)\",fontsize=24)"
   ]
  },
  {
   "cell_type": "code",
   "execution_count": null,
   "metadata": {},
   "outputs": [],
   "source": [
    "#add traffic incidents (but first need to make columns match the weather data column formats)\n",
    "incidents_df = pd.read_csv('..\\..\\CSV_files\\Traffic_Incidents.csv')\n",
    "incidents_df.head(10)\n",
    "incidents_df['data']='TrafficIncidents'\n",
    "#rename columns so they match other dataframes\n",
    "incidents_df=incidents_df.rename(columns={'Latitude':'latitude','Longitude':'longitude'})\n",
    "incidents_df=pd.DataFrame(incidents_df)\n",
    "incidents_df['Time'] = incidents_df['START_DT'].str[10:]\n",
    "#incidents_df.head() #<-- visual QC"
   ]
  },
  {
   "cell_type": "code",
   "execution_count": null,
   "metadata": {},
   "outputs": [],
   "source": [
    "#split the Time from the hours in the Incident Data. We need to make the columns match the weather data so we can combined them\n",
    "import numpy as np\n",
    "incidents_df['Time'].str[10:]\n",
    "incidents_df['Time'].str[:3]\n",
    "incidents_df['night/day'] = incidents_df['Time'].str[10:]\n",
    "incidents_df['Hour'] = incidents_df['Time'].str[:3]           \n",
    "incidents_df['Hour'] = incidents_df['Hour'].astype(int)\n",
    "#incidents_df.head()#<-- visual QC"
   ]
  },
  {
   "cell_type": "code",
   "execution_count": null,
   "metadata": {},
   "outputs": [],
   "source": [
    "#need to change PM/AM time into 24hour clock time, so that we can plot them easier on a graph on the X-axis\n",
    "#create a column for the addition to the current time: 0 for AM's, and +12 for PM times:\n",
    "incidents_df[\"temp\"] = incidents_df[\"night/day\"].map(lambda x: '0' if \"AM\" in x else '12' if \"PM\" in x else \"\")\n",
    "incidents_df['temp'] = incidents_df['temp'].astype(int) #change type to int, so we can add columns together\n",
    "#incidents_df.head() #<-- visual QC"
   ]
  },
  {
   "cell_type": "code",
   "execution_count": null,
   "metadata": {},
   "outputs": [],
   "source": [
    "incidents_df['24HourClock']=incidents_df['Hour']+incidents_df['temp'] #add columns to get 24hour clock time\n",
    "#incidents_df.head()#<-- visual QC"
   ]
  },
  {
   "cell_type": "markdown",
   "metadata": {},
   "source": [
    "\\pagebreak"
   ]
  },
  {
   "cell_type": "markdown",
   "metadata": {},
   "source": [
    "### Total incidents in 2018, for each hour of the day (Histogram)"
   ]
  },
  {
   "cell_type": "code",
   "execution_count": null,
   "metadata": {},
   "outputs": [],
   "source": [
    "#Finaly, plot total incidents vs. time of day\n",
    "bins = [1,2,3,4,5,6,7,8,9,10,11,12,13,14,15,16,17,18,19,20,21,22,23,24]\n",
    "\n",
    "fig,ax = plt.subplots(figsize=(15,7))\n",
    "sns.distplot(incidents_df['24HourClock'],kde=False , bins = bins, hist_kws={\"rwidth\":0.8,'edgecolor':'black', 'alpha':1.0} )\n",
    "plt.ylabel(\"Total Incidents\",fontsize=20)\n",
    "plt.xlabel(\"Time of Day (24hour clock)\",fontsize=20)\n",
    "plt.xticks([1,2,3,4,5,6,7,8,9,10,11,12,13,14,15,16,17,18,19,20,21,22,23,24])\n",
    "plt.title(\"Total Incidents in 2018, For Each Hour of the Day\",fontsize=24)\n"
   ]
  }
 ],
 "metadata": {
  "kernelspec": {
   "display_name": "Python 3",
   "language": "python",
   "name": "python3"
  },
  "language_info": {
   "codemirror_mode": {
    "name": "ipython",
    "version": 3
   },
   "file_extension": ".py",
   "mimetype": "text/x-python",
   "name": "python",
   "nbconvert_exporter": "python",
   "pygments_lexer": "ipython3",
   "version": "3.7.6"
  }
 },
 "nbformat": 4,
 "nbformat_minor": 4
}